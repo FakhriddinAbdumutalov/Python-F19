{
 "cells": [
  {
   "cell_type": "markdown",
   "id": "2069d2b6",
   "metadata": {},
   "source": [
    "Create a new database with a table named Roster that has three fields: Name, Species, and Age. The Name and Species columns should be text fields, and the Age column should be an integer field."
   ]
  },
  {
   "cell_type": "code",
   "execution_count": 2,
   "id": "2497d17a",
   "metadata": {},
   "outputs": [
    {
     "name": "stdout",
     "output_type": "stream",
     "text": [
      "Name: Benjamin Sisko, Species: Human, Age: 40\n",
      "Name: Jadzia Dax, Species: Trill, Age: 300\n",
      "Name: Kira Nerys, Species: Bajoran, Age: 29\n"
     ]
    }
   ],
   "source": [
    "roster = [\n",
    "    {\"Name\": \"Benjamin Sisko\", \"Species\": \"Human\", \"Age\": 40},\n",
    "    {\"Name\": \"Jadzia Dax\", \"Species\": \"Trill\", \"Age\": 300},\n",
    "    {\"Name\": \"Kira Nerys\", \"Species\": \"Bajoran\", \"Age\": 29},\n",
    "]\n",
    "\n",
    "# Print the roster\n",
    "for entry in roster:\n",
    "    print(f\"Name: {entry['Name']}, Species: {entry['Species']}, Age: {entry['Age']}\")\n",
    "\n"
   ]
  },
  {
   "cell_type": "code",
   "execution_count": 3,
   "id": "5b00c8ac",
   "metadata": {},
   "outputs": [
    {
     "name": "stdout",
     "output_type": "stream",
     "text": [
      "Name: Benjamin Sisko, Species: Human, Age: 40\n",
      "Name: Ezri Dax, Species: Trill, Age: 300\n",
      "Name: Kira Nerys, Species: Bajoran, Age: 29\n"
     ]
    }
   ],
   "source": [
    "for entry in roster:\n",
    "    if entry[\"Name\"] == \"Jadzia Dax\":\n",
    "        entry[\"Name\"] = \"Ezri Dax\"\n",
    "        break  # stop once updated\n",
    "\n",
    "# Print updated roster\n",
    "for entry in roster:\n",
    "    print(f\"Name: {entry['Name']}, Species: {entry['Species']}, Age: {entry['Age']}\")"
   ]
  },
  {
   "cell_type": "code",
   "execution_count": 4,
   "id": "24323473",
   "metadata": {},
   "outputs": [
    {
     "name": "stdout",
     "output_type": "stream",
     "text": [
      "Bajorans in the roster:\n",
      "Name: Kira Nerys, Age: 29\n"
     ]
    }
   ],
   "source": [
    "print(\"Bajorans in the roster:\")\n",
    "for entry in roster:\n",
    "    if entry[\"Species\"] == \"Bajoran\":\n",
    "        print(f\"Name: {entry['Name']}, Age: {entry['Age']}\")"
   ]
  }
 ],
 "metadata": {
  "kernelspec": {
   "display_name": "Python 3",
   "language": "python",
   "name": "python3"
  },
  "language_info": {
   "codemirror_mode": {
    "name": "ipython",
    "version": 3
   },
   "file_extension": ".py",
   "mimetype": "text/x-python",
   "name": "python",
   "nbconvert_exporter": "python",
   "pygments_lexer": "ipython3",
   "version": "3.11.9"
  }
 },
 "nbformat": 4,
 "nbformat_minor": 5
}
