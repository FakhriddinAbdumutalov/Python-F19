{
 "cells": [
  {
   "cell_type": "markdown",
   "id": "8f05f648",
   "metadata": {},
   "source": [
    "Age Calculator: Ask the user to enter their birthdate. Calculate and print their age in years, months, and days."
   ]
  },
  {
   "cell_type": "code",
   "execution_count": 8,
   "id": "2bf8b049",
   "metadata": {},
   "outputs": [
    {
     "name": "stdout",
     "output_type": "stream",
     "text": [
      "You are 23 years, 3 months, and 5 days old.\n"
     ]
    }
   ],
   "source": [
    "# Age Calculator Notebook\n",
    "\n",
    "from datetime import datetime, date\n",
    "\n",
    "# Prompt user for birthdate\n",
    "bd_str = input(\"Enter your birthdate (YYYY-MM-DD): \")\n",
    "\n",
    "\n",
    "# Parse input\n",
    "birthdate = datetime.strptime(bd_str, \"%Y-%m-%d\").date()\n",
    "today = date.today()\n",
    "\n",
    "# Calculate initial differences\n",
    "years = today.year - birthdate.year\n",
    "months = today.month - birthdate.month\n",
    "days = today.day - birthdate.day\n",
    "\n",
    "print(f\"You are {years} years, {months} months, and {days} days old.\")\n"
   ]
  },
  {
   "cell_type": "markdown",
   "id": "edd54841",
   "metadata": {},
   "source": [
    "Days Until Next Birthday: Similar to the first exercise, but this time, calculate and print the number of days remaining until the user's next birthday."
   ]
  },
  {
   "cell_type": "code",
   "execution_count": 11,
   "id": "bed971f9",
   "metadata": {},
   "outputs": [
    {
     "name": "stdout",
     "output_type": "stream",
     "text": [
      "Days until next birthday: 251 days.\n"
     ]
    }
   ],
   "source": [
    "# Cell 2: Days until next birthday calculation\n",
    "from datetime import date\n",
    "\n",
    "\n",
    "    # Ensure birthdate and today are defined from previous cell\n",
    "today = date.today()\n",
    "this_year_bday = date(today.year, birthdate.month, birthdate.day)\n",
    "if this_year_bday < today:\n",
    "    next_birthday = date(today.year + 1, birthdate.month, birthdate.day)\n",
    "else:\n",
    "    next_birthday = this_year_bday\n",
    "\n",
    "days_until = (next_birthday - today).days\n",
    "print(f\"Days until next birthday: {days_until} days.\")"
   ]
  },
  {
   "cell_type": "markdown",
   "id": "f5fc0c50",
   "metadata": {},
   "source": [
    "Meeting Scheduler: Ask the user to enter the current date and time, as well as the duration of a meeting in hours and minutes. Calculate and print the date and time when the meeting will end."
   ]
  },
  {
   "cell_type": "code",
   "execution_count": null,
   "id": "a04e2f48",
   "metadata": {},
   "outputs": [],
   "source": [
    "# Meeting Scheduler\n",
    "from datetime import datetime, timedelta\n",
    "\n",
    "# Prompt for current datetime\n",
    "now_str = input(\"Enter current date and time (YYYY-MM-DD HH:MM): \")\n",
    "# Prompt for meeting duration\n",
    "dur_str = input(\"Enter meeting duration (hours minutes): \")  # e.g., 1 30\n",
    "\n",
    "\n",
    "current_dt = datetime.strptime(now_str, \"%Y-%m-%d %H:%M\")\n",
    "hrs, mins = map(int, dur_str.split())\n",
    "delta = timedelta(hours=hrs, minutes=mins)\n",
    "end_dt = current_dt + delta\n",
    "print(f\"Meeting will end at: {end_dt.strftime('%Y-%m-%d %H:%M')}\")"
   ]
  },
  {
   "cell_type": "markdown",
   "id": "a5b26d7c",
   "metadata": {},
   "source": [
    "Timezone Converter: Create a program that allows the user to enter a date and time along with their current timezone, and then convert and print the date and time in another timezone of their choice."
   ]
  },
  {
   "cell_type": "code",
   "execution_count": 15,
   "id": "2db13e4f",
   "metadata": {},
   "outputs": [
    {
     "ename": "UnknownTimeZoneError",
     "evalue": "'01:30'",
     "output_type": "error",
     "traceback": [
      "\u001b[31m---------------------------------------------------------------------------\u001b[39m",
      "\u001b[31mUnknownTimeZoneError\u001b[39m                      Traceback (most recent call last)",
      "\u001b[36mCell\u001b[39m\u001b[36m \u001b[39m\u001b[32mIn[15]\u001b[39m\u001b[32m, line 12\u001b[39m\n\u001b[32m      8\u001b[39m dest_tz_str = \u001b[38;5;28minput\u001b[39m(\u001b[33m\"\u001b[39m\u001b[33mEnter destination timezone (e.g., US/Eastern): \u001b[39m\u001b[33m\"\u001b[39m)\n\u001b[32m     11\u001b[39m naive_dt = datetime.strptime(dt_str, \u001b[33m\"\u001b[39m\u001b[33m%\u001b[39m\u001b[33mY-\u001b[39m\u001b[33m%\u001b[39m\u001b[33mm-\u001b[39m\u001b[38;5;132;01m%d\u001b[39;00m\u001b[33m \u001b[39m\u001b[33m%\u001b[39m\u001b[33mH:\u001b[39m\u001b[33m%\u001b[39m\u001b[33mM\u001b[39m\u001b[33m\"\u001b[39m)\n\u001b[32m---> \u001b[39m\u001b[32m12\u001b[39m src_tz = \u001b[43mpytz\u001b[49m\u001b[43m.\u001b[49m\u001b[43mtimezone\u001b[49m\u001b[43m(\u001b[49m\u001b[43msrc_tz_str\u001b[49m\u001b[43m)\u001b[49m\n\u001b[32m     13\u001b[39m dest_tz = pytz.timezone(dest_tz_str)\n\u001b[32m     15\u001b[39m \u001b[38;5;66;03m# Localize and convert\u001b[39;00m\n",
      "\u001b[36mFile \u001b[39m\u001b[32m~\\AppData\\Local\\Packages\\PythonSoftwareFoundation.Python.3.11_qbz5n2kfra8p0\\LocalCache\\local-packages\\Python311\\site-packages\\pytz\\__init__.py:188\u001b[39m, in \u001b[36mtimezone\u001b[39m\u001b[34m(zone)\u001b[39m\n\u001b[32m    186\u001b[39m             fp.close()\n\u001b[32m    187\u001b[39m     \u001b[38;5;28;01melse\u001b[39;00m:\n\u001b[32m--> \u001b[39m\u001b[32m188\u001b[39m         \u001b[38;5;28;01mraise\u001b[39;00m UnknownTimeZoneError(zone)\n\u001b[32m    190\u001b[39m \u001b[38;5;28;01mreturn\u001b[39;00m _tzinfo_cache[zone]\n",
      "\u001b[31mUnknownTimeZoneError\u001b[39m: '01:30'"
     ]
    }
   ],
   "source": [
    "#Timezone Converter\n",
    "from datetime import datetime\n",
    "import pytz  # ensure pytz is installed\n",
    "\n",
    "# Prompt for date/time and timezones\n",
    "dt_str = input(\"Enter date and time (YYYY-MM-DD HH:MM): \")\n",
    "src_tz_str = input(\"Enter source timezone (e.g., UTC, Europe/London): \")\n",
    "dest_tz_str = input(\"Enter destination timezone (e.g., US/Eastern): \")\n",
    "\n",
    "\n",
    "naive_dt = datetime.strptime(dt_str, \"%Y-%m-%d %H:%M\")\n",
    "src_tz = pytz.timezone(src_tz_str)\n",
    "dest_tz = pytz.timezone(dest_tz_str)\n",
    "\n",
    "# Localize and convert\n",
    "aware_src = src_tz.localize(naive_dt)\n",
    "converted = aware_src.astimezone(dest_tz)\n",
    "print(f\"{dt_str} in {src_tz_str} is {converted.strftime('%Y-%m-%d %H:%M')} in {dest_tz_str}.\")"
   ]
  },
  {
   "cell_type": "markdown",
   "id": "c3dcf32e",
   "metadata": {},
   "source": [
    "Countdown Timer: Implement a countdown timer. Ask the user to input a future date and time, and then continuously print the time remaining until that point in regular intervals (e.g., every second)."
   ]
  },
  {
   "cell_type": "code",
   "execution_count": 18,
   "id": "5c4f41a8",
   "metadata": {},
   "outputs": [
    {
     "name": "stdout",
     "output_type": "stream",
     "text": [
      "Time remaining: 0d 12h 32m 23sTime remaining: 0d 12h 32m 22sTime remaining: 0d 12h 32m 21sTime remaining: 0d 12h 32m 20sTime remaining: 0d 12h 32m 19sTime remaining: 0d 12h 32m 18sTime remaining: 0d 12h 32m 17sTime remaining: 0d 12h 32m 16sTime remaining: 0d 12h 32m 15sTime remaining: 0d 12h 32m 14sTime remaining: 0d 12h 32m 13sTime remaining: 0d 12h 32m 12sTime remaining: 0d 12h 32m 11sTime remaining: 0d 12h 32m 10sTime remaining: 0d 12h 32m 09sTime remaining: 0d 12h 32m 08sTime remaining: 0d 12h 32m 07sTime remaining: 0d 12h 32m 06sTime remaining: 0d 12h 32m 05sTime remaining: 0d 12h 32m 04sTime remaining: 0d 12h 32m 03sTime remaining: 0d 12h 32m 02sTime remaining: 0d 12h 32m 01sTime remaining: 0d 12h 32m 00sTime remaining: 0d 12h 31m 59sTime remaining: 0d 12h 31m 58sTime remaining: 0d 12h 31m 57sTime remaining: 0d 12h 31m 56sTime remaining: 0d 12h 31m 55sTime remaining: 0d 12h 31m 54sTime remaining: 0d 12h 31m 53sTime remaining: 0d 12h 31m 52sTime remaining: 0d 12h 31m 51s"
     ]
    },
    {
     "ename": "KeyboardInterrupt",
     "evalue": "",
     "output_type": "error",
     "traceback": [
      "\u001b[31m---------------------------------------------------------------------------\u001b[39m",
      "\u001b[31mKeyboardInterrupt\u001b[39m                         Traceback (most recent call last)",
      "\u001b[36mCell\u001b[39m\u001b[36m \u001b[39m\u001b[32mIn[18]\u001b[39m\u001b[32m, line 20\u001b[39m\n\u001b[32m     18\u001b[39m         mins, secs = \u001b[38;5;28mdivmod\u001b[39m(rem, \u001b[32m60\u001b[39m)\n\u001b[32m     19\u001b[39m         \u001b[38;5;28mprint\u001b[39m(\u001b[33mf\u001b[39m\u001b[33m\"\u001b[39m\u001b[33mTime remaining: \u001b[39m\u001b[38;5;132;01m{\u001b[39;00mdays\u001b[38;5;132;01m}\u001b[39;00m\u001b[33md \u001b[39m\u001b[38;5;132;01m{\u001b[39;00mhrs\u001b[38;5;132;01m:\u001b[39;00m\u001b[33m02\u001b[39m\u001b[38;5;132;01m}\u001b[39;00m\u001b[33mh \u001b[39m\u001b[38;5;132;01m{\u001b[39;00mmins\u001b[38;5;132;01m:\u001b[39;00m\u001b[33m02\u001b[39m\u001b[38;5;132;01m}\u001b[39;00m\u001b[33mm \u001b[39m\u001b[38;5;132;01m{\u001b[39;00msecs\u001b[38;5;132;01m:\u001b[39;00m\u001b[33m02\u001b[39m\u001b[38;5;132;01m}\u001b[39;00m\u001b[33ms\u001b[39m\u001b[33m\"\u001b[39m, end=\u001b[33m\"\u001b[39m\u001b[33m\"\u001b[39m)\n\u001b[32m---> \u001b[39m\u001b[32m20\u001b[39m         time.sleep(\u001b[32m1\u001b[39m)\n\u001b[32m     21\u001b[39m \u001b[38;5;28;01mexcept\u001b[39;00m \u001b[38;5;167;01mValueError\u001b[39;00m:\n\u001b[32m     22\u001b[39m     \u001b[38;5;28mprint\u001b[39m(\u001b[33m\"\u001b[39m\u001b[33mInvalid format. Please use YYYY-MM-DD HH:MM:SS.\u001b[39m\u001b[33m\"\u001b[39m)\n",
      "\u001b[31mKeyboardInterrupt\u001b[39m: "
     ]
    }
   ],
   "source": [
    "import time\n",
    "from datetime import datetime\n",
    "\n",
    "# Prompt for future date/time\n",
    "target_str = input(\"Enter future date and time (YYYY-MM-DD HH:MM:SS): \")\n",
    "\n",
    "try:\n",
    "    target_dt = datetime.strptime(target_str, \"%Y-%m-%d %H:%M:%S\")\n",
    "    while True:\n",
    "        now = datetime.now()\n",
    "        diff = target_dt - now\n",
    "        if diff.total_seconds() <= 0:\n",
    "            print(\"Countdown complete!\")\n",
    "            break\n",
    "        # Extract hours, minutes, seconds\n",
    "        days = diff.days\n",
    "        hrs, rem = divmod(diff.seconds, 3600)\n",
    "        mins, secs = divmod(rem, 60)\n",
    "        print(f\"Time remaining: {days}d {hrs:02}h {mins:02}m {secs:02}s\", end=\"\")\n",
    "        time.sleep(1)\n",
    "except ValueError:\n",
    "    print(\"Invalid format. Please use YYYY-MM-DD HH:MM:SS.\")"
   ]
  },
  {
   "cell_type": "markdown",
   "id": "2bb34080",
   "metadata": {},
   "source": [
    "Email Validator: Write a program that validates email addresses. Ask the user to input an email address, and check if it follows a valid email format."
   ]
  },
  {
   "cell_type": "code",
   "execution_count": 19,
   "id": "2d972d54",
   "metadata": {},
   "outputs": [
    {
     "name": "stdout",
     "output_type": "stream",
     "text": [
      "'fakhriddinabdumutalov@gmail.com' is a valid email address.\n"
     ]
    }
   ],
   "source": [
    "import re\n",
    "\n",
    "email = input(\"Enter an email address: \")\n",
    "pattern = r'^[\\w\\.-]+@[\\w\\.-]+\\.\\w+$'\n",
    "\n",
    "if re.match(pattern, email):\n",
    "    print(f\"'{email}' is a valid email address.\")\n",
    "else:\n",
    "    print(f\"'{email}' is NOT a valid email address.\")"
   ]
  },
  {
   "cell_type": "markdown",
   "id": "cce0a5e8",
   "metadata": {},
   "source": [
    "Phone Number Formatter: Create a program that takes a phone number as input and formats it according to a standard format. For example, convert \"1234567890\" to \"(123) 456-7890\"."
   ]
  },
  {
   "cell_type": "code",
   "execution_count": 20,
   "id": "f43c7b0f",
   "metadata": {},
   "outputs": [
    {
     "name": "stdout",
     "output_type": "stream",
     "text": [
      "Invalid phone number. Please enter exactly 10 digits.\n"
     ]
    }
   ],
   "source": [
    "phone = input(\"Enter a 10-digit phone number: \")\n",
    "\n",
    "# Remove non-digits and format\n",
    "cleaned = ''.join(filter(str.isdigit, phone))\n",
    "if len(cleaned) == 10:\n",
    "    formatted = f\"({cleaned[:3]}) {cleaned[3:6]}-{cleaned[6:]}\"\n",
    "    print(f\"Formatted phone number: {formatted}\")\n",
    "else:\n",
    "    print(\"Invalid phone number. Please enter exactly 10 digits.\")"
   ]
  },
  {
   "cell_type": "markdown",
   "id": "f4510b2c",
   "metadata": {},
   "source": [
    "Password Strength Checker: Implement a password strength checker. Ask the user to input a password and check if it meets certain criteria (e.g., minimum length, contains at least one uppercase letter, one lowercase letter, and one digit)."
   ]
  },
  {
   "cell_type": "code",
   "execution_count": 21,
   "id": "c43439c7",
   "metadata": {},
   "outputs": [
    {
     "name": "stdout",
     "output_type": "stream",
     "text": [
      "Password is weak. Ensure it has at least 8 characters, an uppercase letter, a lowercase letter, a digit, and a special character.\n"
     ]
    }
   ],
   "source": [
    "import re\n",
    "\n",
    "def check_password_strength(password: str) -> bool:\n",
    "    \"\"\"\n",
    "    Checks if the given password meets the following criteria:\n",
    "    - At least 8 characters long\n",
    "    - Contains at least one uppercase letter\n",
    "    - Contains at least one lowercase letter\n",
    "    - Contains at least one digit\n",
    "    - Contains at least one special character (optional)\n",
    "    \"\"\"\n",
    "    # Minimum length check\n",
    "    if len(password) < 8:\n",
    "        return False\n",
    "\n",
    "    # Uppercase, lowercase, digit checks\n",
    "    if not re.search(r\"[A-Z]\", password):\n",
    "        return False\n",
    "    if not re.search(r\"[a-z]\", password):\n",
    "        return False\n",
    "    if not re.search(r\"\\d\", password):\n",
    "        return False\n",
    "\n",
    "    # Optional: special character check\n",
    "    if not re.search(r\"[!@#$%^&*(),.?\\\":{}|<>]\", password):\n",
    "        return False\n",
    "\n",
    "    return True\n",
    "\n",
    "\n",
    "def main():\n",
    "    password = input(\"Enter a password to check its strength: \")\n",
    "    if check_password_strength(password):\n",
    "        print(\"Password is strong.\")\n",
    "    else:\n",
    "        print(\"Password is weak. Ensure it has at least 8 characters, an uppercase letter, a lowercase letter, a digit, and a special character.\")\n",
    "\n",
    "if __name__ == \"__main__\":\n",
    "    main()\n"
   ]
  },
  {
   "cell_type": "markdown",
   "id": "d6691991",
   "metadata": {},
   "source": [
    "Word Finder: Develop a program that finds all occurrences of a specific word in a given text. Ask the user to input a word, and then search for and print all occurrences of that word in a sample text."
   ]
  },
  {
   "cell_type": "code",
   "execution_count": 23,
   "id": "158418f9",
   "metadata": {},
   "outputs": [
    {
     "name": "stdout",
     "output_type": "stream",
     "text": [
      "Found 2 occurrence(s) of 'text':\n",
      "1. Position 17: ...This is a sample text. Feel free to repla...\n",
      "2. Position 56: ...replace it with any text you like. The progr...\n"
     ]
    }
   ],
   "source": [
    "import re\n",
    "\n",
    "def find_word_occurrences(text: str, word: str) -> list:\n",
    "    \"\"\"\n",
    "    Finds all occurrences of `word` in `text` (case-insensitive) and returns their start indices.\n",
    "    Also returns the matched substrings for context.\n",
    "    \"\"\"\n",
    "    # Use regex for whole word matching, ignore case\n",
    "    pattern = re.compile(rf\"\\b{re.escape(word)}\\b\", re.IGNORECASE)\n",
    "    occurrences = []\n",
    "    for match in pattern.finditer(text):\n",
    "        start = match.start()\n",
    "        # For context, grab up to 20 chars around\n",
    "        context_start = max(0, start - 20)\n",
    "        context_end = min(len(text), match.end() + 20)\n",
    "        context = text[context_start:context_end]\n",
    "        occurrences.append((start, context))\n",
    "    return occurrences\n",
    "\n",
    "\n",
    "def main():\n",
    "    sample_text = (\n",
    "        \"This is a sample text. Feel free to replace it with any text you like. \"\n",
    "        \"The program should find all occurrences of the word you input, \"\n",
    "        \"even if the casing is different. Let's test the Word Finder program by finding the word 'program'.\"\n",
    "    )\n",
    "    word = input(\"Enter the word to search for: \")\n",
    "    results = find_word_occurrences(sample_text, word)\n",
    "    if not results:\n",
    "        print(f\"No occurrences of '{word}' found.\")\n",
    "    else:\n",
    "        print(f\"Found {len(results)} occurrence(s) of '{word}':\")\n",
    "        for idx, (pos, context) in enumerate(results, 1):\n",
    "            print(f\"{idx}. Position {pos}: ...{context}...\")\n",
    "\n",
    "if __name__ == \"__main__\":\n",
    "    main()\n"
   ]
  },
  {
   "cell_type": "markdown",
   "id": "ba068483",
   "metadata": {},
   "source": [
    "Date Extractor: Write a program that extracts dates from a given text. Ask the user to input a text, and then identify and print all the dates present in the text."
   ]
  },
  {
   "cell_type": "code",
   "execution_count": null,
   "id": "ec0a85ab",
   "metadata": {},
   "outputs": [],
   "source": [
    "import re\n",
    "\n",
    "def extract_dates(text: str) -> list:\n",
    "    \"\"\"\n",
    "    Extracts dates from the text in various formats:\n",
    "    - YYYY-MM-DD or YYYY/MM/DD\n",
    "    - DD-MM-YYYY or DD/MM/YYYY\n",
    "    - Month DD, YYYY (e.g., January 1, 2020)\n",
    "    - DD Month YYYY (e.g., 1 January 2020)\n",
    "    \"\"\"\n",
    "    # Patterns for different date formats\n",
    "    patterns = [\n",
    "        r\"\\b\\d{4}[-/]\\d{2}[-/]\\d{2}\\b\",                           # YYYY-MM-DD or YYYY/MM/DD\n",
    "        r\"\\b\\d{2}[-/]\\d{2}[-/]\\d{4}\\b\",                           # DD-MM-YYYY or DD/MM/YYYY\n",
    "        r\"\\b(?:Jan|Feb|Mar|Apr|May|Jun|Jul|Aug|Sep|Oct|Nov|Dec)[a-z]* \\d{1,2}, \\d{4}\\b\",  # Month DD, YYYY\n",
    "        r\"\\b\\d{1,2} (?:Jan|Feb|Mar|Apr|May|Jun|Jul|Aug|Sep|Oct|Nov|Dec)[a-z]* \\d{4}\\b\"   # DD Month YYYY\n",
    "    ]\n",
    "\n",
    "    dates = []\n",
    "    for pattern in patterns:\n",
    "        matches = re.findall(pattern, text, flags=re.IGNORECASE)\n",
    "        dates.extend(matches)\n",
    "\n",
    "    return dates\n",
    "\n",
    "\n",
    "def main():\n",
    "    text = input(\"Enter text to extract dates from: \")\n",
    "    found = extract_dates(text)\n",
    "    if found:\n",
    "        print(\"Dates found:\")\n",
    "        for date in found:\n",
    "            print(f\"- {date}\")\n",
    "    else:\n",
    "        print(\"No dates found in the text.\")\n",
    "\n",
    "if __name__ == \"__main__\":\n",
    "    main()"
   ]
  }
 ],
 "metadata": {
  "kernelspec": {
   "display_name": "Python 3",
   "language": "python",
   "name": "python3"
  },
  "language_info": {
   "codemirror_mode": {
    "name": "ipython",
    "version": 3
   },
   "file_extension": ".py",
   "mimetype": "text/x-python",
   "name": "python",
   "nbconvert_exporter": "python",
   "pygments_lexer": "ipython3",
   "version": "3.11.9"
  }
 },
 "nbformat": 4,
 "nbformat_minor": 5
}
