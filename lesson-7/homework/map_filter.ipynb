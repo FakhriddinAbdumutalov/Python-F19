{
 "cells": [
  {
   "cell_type": "markdown",
   "id": "dc0dc30c",
   "metadata": {},
   "source": [
    "Homework"
   ]
  },
  {
   "cell_type": "markdown",
   "id": "05812ca4",
   "metadata": {},
   "source": [
    "Learn about map and filter functions, and be prepared to explain them in class.\n",
    " Provide examples using these functions with lambda expressions."
   ]
  },
  {
   "cell_type": "code",
   "execution_count": 6,
   "id": "2e9db0b0",
   "metadata": {},
   "outputs": [
    {
     "name": "stdout",
     "output_type": "stream",
     "text": [
      "True\n"
     ]
    }
   ],
   "source": [
    "# 1. is_prime(n) funksiyasi\n",
    "# is_prime(n) funksiyasini hosil qiling (n > 0). Agar n soni tub bo'lsa True, aks holda False qiymat qaytarsin.\n",
    "# Misollar:\n",
    "# Kiritish:\n",
    "# 4\n",
    "# Natija:\n",
    "# False\n",
    "# (Izoh: 4 soni tub emas, chunki u 2 ga bo'linadi.)\n",
    "# Kiritish:\n",
    "# 7\n",
    "# Natija:\n",
    "# True\n",
    "# (Izoh: 7 soni faqat 1 va o'ziga bo'linadi, ya'ni tub son.)\n",
    "\n",
    "N = int(input(\"Please enter an integer: \"))\n",
    "\n",
    "if N < 2:\n",
    "    print(\"False\")\n",
    "else:\n",
    "    is_prime = True\n",
    "    for i in range(2, N):\n",
    "        if N % i == 0:\n",
    "            is_prime = False\n",
    "            break\n",
    "    if is_prime:\n",
    "        print(\"True\")\n",
    "    else:\n",
    "        print(\"False\")\n"
   ]
  },
  {
   "cell_type": "code",
   "execution_count": null,
   "id": "94a16229",
   "metadata": {},
   "outputs": [
    {
     "name": "stdout",
     "output_type": "stream",
     "text": [
      "Sum of digits: 7\n"
     ]
    }
   ],
   "source": [
    "# 2. digit_sum(k) funksiyasi\n",
    "# digit_sum(k) funksiyasini yozing, u k sonining raqamlari yig'indisini hisoblaydi.\n",
    "\n",
    "# Misollar:\n",
    "# Kiritish:\n",
    "# 24\n",
    "# Natija:\n",
    "# 6\n",
    "# (Izoh: 24 sonining raqamlari yig'indisi: 2 + 4 = 6.)\n",
    "\n",
    "# Kiritish:\n",
    "# 502\n",
    "# Natija:\n",
    "# 7\n",
    "# (Izoh: 502 sonining raqamlari yig'indisi: 5 + 0 + 2 = 7.)\n",
    "\n",
    "k = input(\"Enter a number: \")\n",
    "total = 0\n",
    "\n",
    "for digit in k:\n",
    "    total += int(digit)\n",
    "\n",
    "print(total)\n",
    "\n",
    "\n"
   ]
  },
  {
   "cell_type": "code",
   "execution_count": 6,
   "id": "c183b03d",
   "metadata": {},
   "outputs": [
    {
     "name": "stdout",
     "output_type": "stream",
     "text": [
      "2\n",
      "4\n",
      "8\n"
     ]
    }
   ],
   "source": [
    "# 3. Ikki sonning darajalari\n",
    "# Berilgan N sonidan oshmaydigan barcha 2 ning darajalarini (ya'ni, 2**k shaklidagi sonlarni) chop etuvchi funksiyani yozing.\n",
    "\n",
    "# Misol:\n",
    "# Kiritish:\n",
    "# 10\n",
    "# Natija:\n",
    "# 2 4 8\n",
    "# (Izoh: 10 dan kichik yoki teng bo'lgan 2 ning darajalari: 2, 4, 8.)\n",
    "\n",
    "# N = int(input(\"Please enter an integer: \"))\n",
    "\n",
    "# for k in range(1, N + 1):\n",
    "#     k = 2**k\n",
    "#     if k > N:\n",
    "#         break\n",
    "#     else:\n",
    "#         print(k)\n",
    "\n",
    "N = int(input(\"Please enter an integer: \"))\n",
    "\n",
    "power = 2\n",
    "while power <= N:\n",
    "    print(power)\n",
    "    power *= 2\n"
   ]
  }
 ],
 "metadata": {
  "kernelspec": {
   "display_name": "Python 3",
   "language": "python",
   "name": "python3"
  },
  "language_info": {
   "codemirror_mode": {
    "name": "ipython",
    "version": 3
   },
   "file_extension": ".py",
   "mimetype": "text/x-python",
   "name": "python",
   "nbconvert_exporter": "python",
   "pygments_lexer": "ipython3",
   "version": "3.11.9"
  }
 },
 "nbformat": 4,
 "nbformat_minor": 5
}
