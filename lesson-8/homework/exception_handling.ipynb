{
 "cells": [
  {
   "cell_type": "markdown",
   "id": "85386b4b",
   "metadata": {},
   "source": [
    "## Python Exception Handling: Exercises, Solutions, and Practice"
   ]
  },
  {
   "cell_type": "markdown",
   "id": "551fc1c7",
   "metadata": {},
   "source": [
    "Exception Handling Exercises"
   ]
  },
  {
   "cell_type": "code",
   "execution_count": 5,
   "id": "272aff27",
   "metadata": {},
   "outputs": [
    {
     "name": "stdout",
     "output_type": "stream",
     "text": [
      "Error: Cannot divide by zero!\n"
     ]
    }
   ],
   "source": [
    "#1. Write a Python program to handle a ZeroDivisionError exception when dividing a number by zero.\n",
    "try: \n",
    "    division = 10/0\n",
    "    print(division)\n",
    "except ZeroDivisionError:\n",
    "    print(\"Error: Cannot divide by zero!\")"
   ]
  },
  {
   "cell_type": "code",
   "execution_count": 7,
   "id": "45a7ba38",
   "metadata": {},
   "outputs": [],
   "source": [
    "# 2. Write a Python program that prompts the user to input an integer and raises a ValueError exception if the input is not a valid integer.\n",
    "try:\n",
    "    user = int(input(\"Please enter an integer\"))\n",
    "except ValueError:\n",
    "    print(\"Error: Entered invalid value\")"
   ]
  },
  {
   "cell_type": "code",
   "execution_count": 8,
   "id": "3a8ffbdf",
   "metadata": {},
   "outputs": [
    {
     "name": "stdout",
     "output_type": "stream",
     "text": [
      "Error: The file was not found.\n"
     ]
    }
   ],
   "source": [
    "# 3. Write a Python program that opens a file and handles a FileNotFoundError exception if the file does not exist.\n",
    "try:\n",
    "    with open('file') as file:\n",
    "        content = file.read()\n",
    "except FileNotFoundError:\n",
    "    print(\"Error: The file was not found.\")"
   ]
  },
  {
   "cell_type": "code",
   "execution_count": 12,
   "id": "1416de10",
   "metadata": {},
   "outputs": [
    {
     "name": "stdout",
     "output_type": "stream",
     "text": [
      "TypeError: Inputs must be numeric.\n"
     ]
    }
   ],
   "source": [
    "# 4. Write a Python program that prompts the user to input two numbers and raises a TypeError exception if the inputs are not numerical.\n",
    "try:\n",
    "    a = input(\"Enter the first number: \")\n",
    "    b = input(\"Enter the second number: \")\n",
    "\n",
    "    if not a.isdigit() or not b.isdigit():\n",
    "        raise TypeError(\"Inputs must be numeric.\")\n",
    "\n",
    "    a = int(a)\n",
    "    b = int(b)\n",
    "\n",
    "    result = a + b\n",
    "    print(\"Sum:\", result)\n",
    "\n",
    "except TypeError as te:\n",
    "    print(\"TypeError:\", te)\n"
   ]
  },
  {
   "cell_type": "code",
   "execution_count": 14,
   "id": "8e5d7606",
   "metadata": {},
   "outputs": [
    {
     "ename": "FileNotFoundError",
     "evalue": "[Errno 2] No such file or directory: 'lesson-1'",
     "output_type": "error",
     "traceback": [
      "\u001b[31m---------------------------------------------------------------------------\u001b[39m",
      "\u001b[31mFileNotFoundError\u001b[39m                         Traceback (most recent call last)",
      "\u001b[36mCell\u001b[39m\u001b[36m \u001b[39m\u001b[32mIn[14]\u001b[39m\u001b[32m, line 3\u001b[39m\n\u001b[32m      1\u001b[39m \u001b[38;5;66;03m# 5. Write a Python program that opens a file and handles a PermissionError exception if there is a permission issue.\u001b[39;00m\n\u001b[32m      2\u001b[39m \u001b[38;5;28;01mtry\u001b[39;00m:\n\u001b[32m----> \u001b[39m\u001b[32m3\u001b[39m     \u001b[38;5;28;01mwith\u001b[39;00m \u001b[38;5;28;43mopen\u001b[39;49m\u001b[43m(\u001b[49m\u001b[33;43m'\u001b[39;49m\u001b[33;43mlesson-1\u001b[39;49m\u001b[33;43m'\u001b[39;49m\u001b[43m)\u001b[49m \u001b[38;5;28;01mas\u001b[39;00m file:\n\u001b[32m      4\u001b[39m         content = file.read()\n\u001b[32m      5\u001b[39m \u001b[38;5;28;01mexcept\u001b[39;00m \u001b[38;5;167;01mPermissionError\u001b[39;00m:\n",
      "\u001b[36mFile \u001b[39m\u001b[32m~\\AppData\\Local\\Packages\\PythonSoftwareFoundation.Python.3.11_qbz5n2kfra8p0\\LocalCache\\local-packages\\Python311\\site-packages\\IPython\\core\\interactiveshell.py:325\u001b[39m, in \u001b[36m_modified_open\u001b[39m\u001b[34m(file, *args, **kwargs)\u001b[39m\n\u001b[32m    318\u001b[39m \u001b[38;5;28;01mif\u001b[39;00m file \u001b[38;5;129;01min\u001b[39;00m {\u001b[32m0\u001b[39m, \u001b[32m1\u001b[39m, \u001b[32m2\u001b[39m}:\n\u001b[32m    319\u001b[39m     \u001b[38;5;28;01mraise\u001b[39;00m \u001b[38;5;167;01mValueError\u001b[39;00m(\n\u001b[32m    320\u001b[39m         \u001b[33mf\u001b[39m\u001b[33m\"\u001b[39m\u001b[33mIPython won\u001b[39m\u001b[33m'\u001b[39m\u001b[33mt let you open fd=\u001b[39m\u001b[38;5;132;01m{\u001b[39;00mfile\u001b[38;5;132;01m}\u001b[39;00m\u001b[33m by default \u001b[39m\u001b[33m\"\u001b[39m\n\u001b[32m    321\u001b[39m         \u001b[33m\"\u001b[39m\u001b[33mas it is likely to crash IPython. If you know what you are doing, \u001b[39m\u001b[33m\"\u001b[39m\n\u001b[32m    322\u001b[39m         \u001b[33m\"\u001b[39m\u001b[33myou can use builtins\u001b[39m\u001b[33m'\u001b[39m\u001b[33m open.\u001b[39m\u001b[33m\"\u001b[39m\n\u001b[32m    323\u001b[39m     )\n\u001b[32m--> \u001b[39m\u001b[32m325\u001b[39m \u001b[38;5;28;01mreturn\u001b[39;00m \u001b[43mio_open\u001b[49m\u001b[43m(\u001b[49m\u001b[43mfile\u001b[49m\u001b[43m,\u001b[49m\u001b[43m \u001b[49m\u001b[43m*\u001b[49m\u001b[43margs\u001b[49m\u001b[43m,\u001b[49m\u001b[43m \u001b[49m\u001b[43m*\u001b[49m\u001b[43m*\u001b[49m\u001b[43mkwargs\u001b[49m\u001b[43m)\u001b[49m\n",
      "\u001b[31mFileNotFoundError\u001b[39m: [Errno 2] No such file or directory: 'lesson-1'"
     ]
    }
   ],
   "source": [
    "# 5. Write a Python program that opens a file and handles a PermissionError exception if there is a permission issue.\n",
    "try:\n",
    "    with open('lesson-1') as file:\n",
    "        content = file.read()\n",
    "except PermissionError:\n",
    "    print(\"Error: The file was not found.\")"
   ]
  },
  {
   "cell_type": "code",
   "execution_count": 16,
   "id": "c344883e",
   "metadata": {},
   "outputs": [
    {
     "name": "stdout",
     "output_type": "stream",
     "text": [
      "Element at index 2 is 30\n"
     ]
    }
   ],
   "source": [
    "# 6. Write a Python program that executes an operation on a list and handles an IndexError exception if the index is out of range.\n",
    "my_list = [10, 20, 30, 40, 50]\n",
    "\n",
    "try:\n",
    "    index = int(input(\"Enter an index to access (0–4): \"))\n",
    "    print(\"Element at index\", index, \"is\", my_list[index])\n",
    "\n",
    "except IndexError:\n",
    "    print(\"Error: Index out of range. Please enter a valid index between 0 and\", len(my_list) - 1)\n"
   ]
  },
  {
   "cell_type": "code",
   "execution_count": 24,
   "id": "9e505259",
   "metadata": {},
   "outputs": [
    {
     "name": "stdout",
     "output_type": "stream",
     "text": [
      "You entered: 12121212121212\n"
     ]
    }
   ],
   "source": [
    "# 7. Write a Python program that prompts the user to input a number and handles a KeyboardInterrupt exception if the user cancels the input.\n",
    "try:\n",
    "    number = int(input(\"Please enter a number: \"))\n",
    "    print(\"You entered:\", number)\n",
    "\n",
    "except KeyboardInterrupt:\n",
    "    print(\"\\nInput was cancelled by the user using Ctrl+C.\")"
   ]
  },
  {
   "cell_type": "code",
   "execution_count": null,
   "id": "442936d2",
   "metadata": {},
   "outputs": [],
   "source": [
    "# 8. Write a Python program that executes division and handles an ArithmeticError exception if there is an arithmetic error.\n",
    "try:\n",
    "    numerator = float(input(\"Enter the numerator: \"))\n",
    "    denominator = float(input(\"Enter the denominator: \"))\n",
    "    result = numerator / denominator\n",
    "    print(\"The result of the division is:\", result)\n",
    "except ArithmeticError as e:\n",
    "    print(\"An arithmetic error occurred:\", e)"
   ]
  },
  {
   "cell_type": "code",
   "execution_count": null,
   "id": "0c1e1c0e",
   "metadata": {},
   "outputs": [
    {
     "ename": "FileNotFoundError",
     "evalue": "[Errno 2] No such file or directory: 'example.txt'",
     "output_type": "error",
     "traceback": [
      "\u001b[31m---------------------------------------------------------------------------\u001b[39m",
      "\u001b[31mFileNotFoundError\u001b[39m                         Traceback (most recent call last)",
      "\u001b[36mCell\u001b[39m\u001b[36m \u001b[39m\u001b[32mIn[25]\u001b[39m\u001b[32m, line 3\u001b[39m\n\u001b[32m      1\u001b[39m \u001b[38;5;66;03m# 9. Write a Python program that opens a file and handles a UnicodeDecodeError exception if there is an encoding issue.\u001b[39;00m\n\u001b[32m      2\u001b[39m \u001b[38;5;28;01mtry\u001b[39;00m:\n\u001b[32m----> \u001b[39m\u001b[32m3\u001b[39m     \u001b[38;5;28;01mwith\u001b[39;00m \u001b[38;5;28;43mopen\u001b[39;49m\u001b[43m(\u001b[49m\u001b[33;43m'\u001b[39;49m\u001b[33;43mexample.txt\u001b[39;49m\u001b[33;43m'\u001b[39;49m\u001b[43m,\u001b[49m\u001b[43m \u001b[49m\u001b[33;43m'\u001b[39;49m\u001b[33;43mr\u001b[39;49m\u001b[33;43m'\u001b[39;49m\u001b[43m,\u001b[49m\u001b[43m \u001b[49m\u001b[43mencoding\u001b[49m\u001b[43m=\u001b[49m\u001b[33;43m'\u001b[39;49m\u001b[33;43mutf-8\u001b[39;49m\u001b[33;43m'\u001b[39;49m\u001b[43m)\u001b[49m \u001b[38;5;28;01mas\u001b[39;00m file:\n\u001b[32m      4\u001b[39m         content = file.read()  \n\u001b[32m      5\u001b[39m         \u001b[38;5;28mprint\u001b[39m(content)\n",
      "\u001b[36mFile \u001b[39m\u001b[32m~\\AppData\\Local\\Packages\\PythonSoftwareFoundation.Python.3.11_qbz5n2kfra8p0\\LocalCache\\local-packages\\Python311\\site-packages\\IPython\\core\\interactiveshell.py:325\u001b[39m, in \u001b[36m_modified_open\u001b[39m\u001b[34m(file, *args, **kwargs)\u001b[39m\n\u001b[32m    318\u001b[39m \u001b[38;5;28;01mif\u001b[39;00m file \u001b[38;5;129;01min\u001b[39;00m {\u001b[32m0\u001b[39m, \u001b[32m1\u001b[39m, \u001b[32m2\u001b[39m}:\n\u001b[32m    319\u001b[39m     \u001b[38;5;28;01mraise\u001b[39;00m \u001b[38;5;167;01mValueError\u001b[39;00m(\n\u001b[32m    320\u001b[39m         \u001b[33mf\u001b[39m\u001b[33m\"\u001b[39m\u001b[33mIPython won\u001b[39m\u001b[33m'\u001b[39m\u001b[33mt let you open fd=\u001b[39m\u001b[38;5;132;01m{\u001b[39;00mfile\u001b[38;5;132;01m}\u001b[39;00m\u001b[33m by default \u001b[39m\u001b[33m\"\u001b[39m\n\u001b[32m    321\u001b[39m         \u001b[33m\"\u001b[39m\u001b[33mas it is likely to crash IPython. If you know what you are doing, \u001b[39m\u001b[33m\"\u001b[39m\n\u001b[32m    322\u001b[39m         \u001b[33m\"\u001b[39m\u001b[33myou can use builtins\u001b[39m\u001b[33m'\u001b[39m\u001b[33m open.\u001b[39m\u001b[33m\"\u001b[39m\n\u001b[32m    323\u001b[39m     )\n\u001b[32m--> \u001b[39m\u001b[32m325\u001b[39m \u001b[38;5;28;01mreturn\u001b[39;00m \u001b[43mio_open\u001b[49m\u001b[43m(\u001b[49m\u001b[43mfile\u001b[49m\u001b[43m,\u001b[49m\u001b[43m \u001b[49m\u001b[43m*\u001b[49m\u001b[43margs\u001b[49m\u001b[43m,\u001b[49m\u001b[43m \u001b[49m\u001b[43m*\u001b[49m\u001b[43m*\u001b[49m\u001b[43mkwargs\u001b[49m\u001b[43m)\u001b[49m\n",
      "\u001b[31mFileNotFoundError\u001b[39m: [Errno 2] No such file or directory: 'example.txt'"
     ]
    }
   ],
   "source": [
    "# 9. Write a Python program that opens a file and handles a UnicodeDecodeError exception if there is an encoding issue.\n",
    "try:\n",
    "    with open('example.txt', 'r', encoding='utf-8') as file:\n",
    "        content = file.read()  \n",
    "        print(content)\n",
    "except UnicodeDecodeError as e:\n",
    "    print(\"A UnicodeDecodeError occurred: \", e)"
   ]
  },
  {
   "cell_type": "code",
   "execution_count": null,
   "id": "7ddb2c4c",
   "metadata": {},
   "outputs": [],
   "source": [
    "# 10. Write a Python program that executes a list operation and handles an AttributeError exception if the attribute does not exist.\n",
    "try:\n",
    "    my_list = [1, 2, 3, 4, 5]\n",
    "    my_list.non_existent_method()\n",
    "except AttributeError as e:\n",
    "    print(\"An AttributeError occurred:\", e)"
   ]
  },
  {
   "cell_type": "markdown",
   "id": "6ffb13de",
   "metadata": {},
   "source": [
    "## Python File Input Output: Exercises, Practice, Solution"
   ]
  },
  {
   "cell_type": "markdown",
   "id": "65994710",
   "metadata": {},
   "source": [
    "File Input/Output Exercises"
   ]
  },
  {
   "cell_type": "code",
   "execution_count": null,
   "id": "d2c6c881",
   "metadata": {},
   "outputs": [],
   "source": [
    "# 1. Write a Python program to read an entire text file.\n",
    "with open('example.txt', 'r') as file:\n",
    "    content = file.read() \n",
    "    print(content) "
   ]
  },
  {
   "cell_type": "code",
   "execution_count": null,
   "id": "f15e6cbf",
   "metadata": {},
   "outputs": [],
   "source": [
    "# 2. Write a Python program to read first n lines of a file.\n",
    "n = int(input(\"Enter the number of lines you want to read: \"))\n",
    "with open('example.txt', 'r') as file:\n",
    "    for i in range(n):\n",
    "        line = file.readline()\n",
    "        if line:  \n",
    "            print(line.strip())  \n",
    "        else:\n",
    "            break "
   ]
  },
  {
   "cell_type": "code",
   "execution_count": null,
   "id": "1f96ef16",
   "metadata": {},
   "outputs": [],
   "source": [
    "# 3. Write a Python program to append text to a file and display the text.\n",
    "# Text to append\n",
    "text = input(\"Enter the text you want to append to the file: \")\n",
    "with open('example.txt', 'a') as file:\n",
    "    file.write(text + '\\n') \n",
    "with open('example.txt', 'r') as file:\n",
    "    content = file.read()\n",
    "    print(\"Updated file content:\")\n",
    "    print(content)"
   ]
  },
  {
   "cell_type": "code",
   "execution_count": null,
   "id": "9232dbbe",
   "metadata": {},
   "outputs": [],
   "source": [
    "# Write a Python program to read last n lines of a file.4. \n",
    "n = int(input(\"Enter the number of lines you want to read from the end: \"))\n",
    "with open('example.txt', 'r') as file:\n",
    "    lines = file.readlines()[-n:]\n",
    "print(\"Last\", n, \"lines of the file:\")\n",
    "for line in lines:\n",
    "    print(line.strip()) "
   ]
  },
  {
   "cell_type": "code",
   "execution_count": null,
   "id": "ee6d329d",
   "metadata": {},
   "outputs": [],
   "source": [
    "# 5. Write a Python program to read a file line by line and store it into a list.\n",
    "with open('example.txt', 'r') as file:\n",
    "    lines = file.readlines()\n",
    "print(\"File content stored in the list:\")\n",
    "for line in lines:\n",
    "    print(line.strip()) "
   ]
  },
  {
   "cell_type": "code",
   "execution_count": null,
   "id": "14362bbd",
   "metadata": {},
   "outputs": [],
   "source": [
    "# 6. Write a Python program to read a file line by line and store it into a variable.\n",
    "with open('example.txt', 'r') as file:\n",
    "    file_content = file.read()\n",
    "print(\"File content stored in the variable:\")\n",
    "print(file_content)"
   ]
  },
  {
   "cell_type": "code",
   "execution_count": null,
   "id": "43efdf89",
   "metadata": {},
   "outputs": [],
   "source": [
    "# 7. Write a Python program to read a file line by line and store it into an array.\n",
    "with open('example.txt', 'r') as file:\n",
    "    lines = file.readlines()\n",
    "print(\"File content stored in the array:\")\n",
    "for line in lines:\n",
    "    print(line.strip()) "
   ]
  },
  {
   "cell_type": "code",
   "execution_count": null,
   "id": "a1e5ec5c",
   "metadata": {},
   "outputs": [],
   "source": [
    "# 8. Write a Python program to find the longest words.\n",
    "def find_longest_word(sentence):\n",
    "    words = sentence.split()\n",
    "    longest_word = max(words, key=len)\n",
    "    \n",
    "    return longest_word\n",
    "sentence = input(\"Enter a sentence: \")\n",
    "longest_word = find_longest_word(sentence)\n",
    "print(\"The longest word is:\", longest_word)"
   ]
  },
  {
   "cell_type": "code",
   "execution_count": null,
   "id": "003d2f01",
   "metadata": {},
   "outputs": [],
   "source": [
    "# 9. Write a Python program to count the number of lines in a text file.\n",
    "def count_lines_in_file(file_name):\n",
    "    try:\n",
    "        with open(file_name, 'r') as file:\n",
    "            line_count = sum(1 for line in file)\n",
    "        return line_count\n",
    "    except FileNotFoundError:\n",
    "        return \"The file does not exist.\"\n",
    "# Input file name\n",
    "file_name = input(\"Enter the file name: \")\n",
    "\n",
    "# Count the lines and display the result\n",
    "line_count = count_lines_in_file(file_name)\n",
    "print(f\"Number of lines in the file: {line_count}\")"
   ]
  },
  {
   "cell_type": "code",
   "execution_count": null,
   "id": "2f68a035",
   "metadata": {},
   "outputs": [],
   "source": [
    "# 10. Write a Python program to count the frequency of words in a file.\n",
    "def count_word_frequency(file_name):\n",
    "    try:\n",
    "        with open(file_name, 'r') as file:\n",
    "            content = file.read().lower()\n",
    "            words = content.split()\n",
    "            word_frequency = {}\n",
    "            for word in words:\n",
    "                word_frequency[word] = word_frequency.get(word, 0) + 1\n",
    "        return word_frequency\n",
    "    except FileNotFoundError:\n",
    "        return \"File not found.\"\n",
    "file_name = input(\"Enter the file name: \")\n",
    "word_frequency = count_word_frequency(file_name)\n",
    "if isinstance(word_frequency, dict):\n",
    "    print(\"Word Frequency in the file:\")\n",
    "    for word, freq in word_frequency.items():\n",
    "        print(f\"{word}: {freq}\")\n",
    "else:\n",
    "    print(word_frequency)"
   ]
  },
  {
   "cell_type": "code",
   "execution_count": null,
   "id": "243b6f1d",
   "metadata": {},
   "outputs": [],
   "source": [
    "# 11. Write a Python program to get the file size of a plain file.\n",
    "import os\n",
    "file_name = input(\"Enter the file name: \")\n",
    "file_size = os.path.getsize(file_name)\n",
    "print(f\"The size of the file '{file_name}' is {file_size} bytes.\")"
   ]
  },
  {
   "cell_type": "code",
   "execution_count": null,
   "id": "e84d45ce",
   "metadata": {},
   "outputs": [],
   "source": [
    "# 12. Write a Python program to write a list to a file.\n",
    "items = ['apple', 'banana', 'cherry', 'date']\n",
    "with open('fruits.txt', 'w') as file:\n",
    "    for item in items:\n",
    "        file.write(item + '\\n')\n",
    "print(\"List has been written to 'fruits.txt'\")"
   ]
  },
  {
   "cell_type": "code",
   "execution_count": null,
   "id": "5fc4ee39",
   "metadata": {},
   "outputs": [],
   "source": [
    "# 13. Write a Python program to copy the contents of a file to another file.\n",
    "with open('source.txt', 'r') as source_file, open('destination.txt', 'w') as destination_file:\n",
    "    for line in source_file:\n",
    "        destination_file.write(line)\n",
    "print(\"Contents copied from source.txt to destination.txt\")"
   ]
  },
  {
   "cell_type": "code",
   "execution_count": null,
   "id": "768f991e",
   "metadata": {},
   "outputs": [],
   "source": [
    "# 14. Write a Python program to combine each line from the first file with the corresponding line in the second file.\n",
    "with open('file1.txt', 'r') as file1, open('file2.txt', 'r') as file2:\n",
    "    for line1, line2 in zip(file1, file2):\n",
    "        combined_line = line1.strip() + \" \" + line2.strip()\n",
    "        print(combined_line)"
   ]
  },
  {
   "cell_type": "code",
   "execution_count": null,
   "id": "77893f5b",
   "metadata": {},
   "outputs": [],
   "source": [
    "# 15. Write a Python program to read a random line from a file.\n",
    "import random\n",
    "with open('example.txt', 'r') as file:\n",
    "    lines = file.readlines()\n",
    "    random_line = random.choice(lines)\n",
    "    print(\"Random line:\", random_line.strip())"
   ]
  },
  {
   "cell_type": "code",
   "execution_count": null,
   "id": "db5c19b8",
   "metadata": {},
   "outputs": [],
   "source": [
    "# 16. Write a Python program to assess if a file is closed or not.\n",
    "file = open(\"example.txt\", \"r\")\n",
    "print(\"Is the file closed?\", file.closed)  \n",
    "print(\"Is the file closed?\", file.closed) "
   ]
  },
  {
   "cell_type": "code",
   "execution_count": null,
   "id": "e342766c",
   "metadata": {},
   "outputs": [],
   "source": [
    "# 17. Write a Python program to remove newline characters from a file.\n",
    "with open(\"example.txt\", \"r\") as file:\n",
    "    lines = file.readlines()\n",
    "cleaned_lines = [line.strip() for line in lines]\n",
    "for line in cleaned_lines:\n",
    "    print(line)"
   ]
  },
  {
   "cell_type": "code",
   "execution_count": null,
   "id": "9529973b",
   "metadata": {},
   "outputs": [],
   "source": [
    "# 18. Write a Python program that takes a text file as input and returns the number of words in a given text file.\n",
    "# Note: Some words can be separated by a comma with no space.\n",
    "filename = input(\"Enter the filename: \")\n",
    "with open(filename, 'r') as file:\n",
    "    text = file.read()\n",
    "words = text.replace(',', ' ').split()\n",
    "print(\"Number of words:\", len(words))"
   ]
  },
  {
   "cell_type": "code",
   "execution_count": null,
   "id": "8b549f13",
   "metadata": {},
   "outputs": [],
   "source": [
    "# 19. Write a Python program to extract characters from various text files and put them into a list.\n",
    "import os\n",
    "filenames = ['file1.txt', 'file2.txt', 'file3.txt'] \n",
    "characters = []\n",
    "for fname in filenames:\n",
    "    if os.path.exists(fname):\n",
    "        with open(fname, 'r') as file:\n",
    "            content = file.read()\n",
    "            characters.extend(list(content)) \n",
    "    else:\n",
    "        print(f\"{fname} does not exist.\")\n",
    "print(\"Extracted characters:\")\n",
    "print(characters)"
   ]
  },
  {
   "cell_type": "code",
   "execution_count": null,
   "id": "6a88371a",
   "metadata": {},
   "outputs": [],
   "source": [
    "# 20. Write a Python program to generate 26 text files named A.txt, B.txt, and so on up to Z.txt.\n",
    "import string\n",
    "for letter in string.ascii_uppercase:\n",
    "    filename = f\"{letter}.txt\"\n",
    "    with open(filename, 'w') as file:\n",
    "        file.write(f\"This is file {filename}\")"
   ]
  },
  {
   "cell_type": "code",
   "execution_count": null,
   "id": "a4ce1268",
   "metadata": {},
   "outputs": [],
   "source": [
    "# 21. Write a Python program to create a file where all letters of the English alphabet are listed with a specified number of letters on each line.\n",
    "import string\n",
    "letters_per_line = int(input(\"Enter number of letters per line: \"))\n",
    "alphabet = string.ascii_lowercase  \n",
    "with open(\"alphabet_lines.txt\", \"w\") as file:\n",
    "    for i in range(0, len(alphabet), letters_per_line):\n",
    "        line = alphabet[i:i+letters_per_line]\n",
    "        file.write(line + \"\\n\")\n",
    "print(\"File created successfully!\")"
   ]
  }
 ],
 "metadata": {
  "kernelspec": {
   "display_name": "Python 3",
   "language": "python",
   "name": "python3"
  },
  "language_info": {
   "codemirror_mode": {
    "name": "ipython",
    "version": 3
   },
   "file_extension": ".py",
   "mimetype": "text/x-python",
   "name": "python",
   "nbconvert_exporter": "python",
   "pygments_lexer": "ipython3",
   "version": "3.11.9"
  }
 },
 "nbformat": 4,
 "nbformat_minor": 5
}
