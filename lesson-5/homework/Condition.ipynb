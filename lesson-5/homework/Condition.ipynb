{
 "cells": [
  {
   "cell_type": "markdown",
   "id": "5b4957ab",
   "metadata": {},
   "source": [
    "Homework: Conditional Statement"
   ]
  },
  {
   "cell_type": "code",
   "execution_count": null,
   "id": "df92fa53",
   "metadata": {},
   "outputs": [],
   "source": [
    "#1\n",
    "# def is_leap(year): \"\"\" Determines whether a given year is a leap year.\n",
    "\n",
    "# A year is a leap year if:\n",
    "# - It is divisible by 4, and\n",
    "# - It is NOT divisible by 100, unless it is also divisible by 400.\n",
    "\n",
    "# Parameters:\n",
    "# year (int): The year to be checked.\n",
    "\n",
    "# Returns:\n",
    "# bool: True if the year is a leap year, False otherwise.\n",
    "# \"\"\"\n",
    "# if not isinstance(year, int):\n",
    "#     raise ValueError(\"Year must be an integer.\")\n",
    "\n",
    "# return (year % 4 == 0 and year % 100 != 0) or (year % 400 == 0)\n",
    "\n",
    "# leap year -- Febrary -- 29\n",
    "\n",
    "year = int(input(\"Enter a year: \"))\n",
    "\n",
    "if (year % 4 == 0 and year % 100 != 0) or (year % 400 == 0):\n",
    "    print(f\"{year} is a leap year.\")\n",
    "else:\n",
    "    print(f\"{year} is not a leap year.\")"
   ]
  },
  {
   "cell_type": "markdown",
   "id": "888fcbb5",
   "metadata": {},
   "source": [
    "2. Conditional Statements Exercise"
   ]
  },
  {
   "cell_type": "code",
   "execution_count": null,
   "id": "aef756e3",
   "metadata": {},
   "outputs": [
    {
     "name": "stdout",
     "output_type": "stream",
     "text": [
      "Not Weird\n"
     ]
    }
   ],
   "source": [
    "# Given an integer, n, perform the following conditional actions:\n",
    "\n",
    "# If n is odd, print Weird\n",
    "# If n is even and in the inclusive range of 2 to 5, print Not Weird\n",
    "# If n is even and in the inclusive range of 6 to 20, print Weird\n",
    "# If n is even and greater than 20, print Not Weird\n",
    "\n",
    "n = int(input('Please enter a number: '))\n",
    "if n % 2 == 1:\n",
    "     print(\"Weird\")\n",
    "elif n % 2 == 0 and 2 <= n <= 5:\n",
    "     print(\"Not Weird\")\n",
    "elif n % 2 == 0 and 6 <= n <= 20:\n",
    "     print(\"Weird\")\n",
    "elif n % 2 == 0 and n > 20:\n",
    "     print(\"Not Weird\")"
   ]
  },
  {
   "cell_type": "markdown",
   "id": "17988534",
   "metadata": {},
   "source": [
    "3. Given two integer numbers a and b. Find even numbers between this numbers. a and b are inclusive. Don't use loop."
   ]
  },
  {
   "cell_type": "code",
   "execution_count": null,
   "id": "8bf2f31d",
   "metadata": {},
   "outputs": [
    {
     "name": "stdout",
     "output_type": "stream",
     "text": [
      "[10, 12, 14, 16]\n"
     ]
    }
   ],
   "source": [
    "# Give two solutions.\n",
    "\n",
    "# Solution 1 with if-else statement.\n",
    "\n",
    "a = int(input(\"Please enter a number for a: \"))\n",
    "b = int(input(\"please enter a number for b: \"))\n",
    "\n",
    "n = [x for x in range(a, b + 1) if x % 2 == 0]\n",
    "print(n)"
   ]
  },
  {
   "cell_type": "code",
   "execution_count": 14,
   "id": "079f2418",
   "metadata": {},
   "outputs": [
    {
     "name": "stdout",
     "output_type": "stream",
     "text": [
      "[10, 12, 14, 16]\n"
     ]
    }
   ],
   "source": [
    "# Solution 2 without if-else statement.\n",
    "\n",
    "a = int(input(\"Please enter a number for a: \"))\n",
    "b = int(input(\"please enter a number for b: \"))\n",
    "\n",
    "s = a + (a % 2)\n",
    "\n",
    "even_numbers = list(range(s, b + 1, 2))\n",
    "print(even_numbers)"
   ]
  }
 ],
 "metadata": {
  "kernelspec": {
   "display_name": "Python 3",
   "language": "python",
   "name": "python3"
  },
  "language_info": {
   "codemirror_mode": {
    "name": "ipython",
    "version": 3
   },
   "file_extension": ".py",
   "mimetype": "text/x-python",
   "name": "python",
   "nbconvert_exporter": "python",
   "pygments_lexer": "ipython3",
   "version": "3.11.9"
  }
 },
 "nbformat": 4,
 "nbformat_minor": 5
}
