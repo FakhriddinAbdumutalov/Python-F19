{
 "cells": [
  {
   "cell_type": "markdown",
   "id": "934454f5",
   "metadata": {},
   "source": [
    "1. Convert List to 1D Array"
   ]
  },
  {
   "cell_type": "code",
   "execution_count": 3,
   "id": "d2d88370",
   "metadata": {},
   "outputs": [],
   "source": [
    "import numpy as np"
   ]
  },
  {
   "cell_type": "code",
   "execution_count": 5,
   "id": "232dc665",
   "metadata": {},
   "outputs": [
    {
     "name": "stdout",
     "output_type": "stream",
     "text": [
      "[ 12.23  13.32 100.    36.32]\n"
     ]
    }
   ],
   "source": [
    "# Write a NumPy program to convert a list of numeric values into a one-dimensional NumPy array.\n",
    "# Expected Output:\n",
    "# Original List: [12.23, 13.32, 100, 36.32] One-dimensional NumPy array: [ 12.23 13.32 100. 36.32]\n",
    "List = [12.23, 13.32, 100, 36.32]\n",
    "arr = np.array(List)\n",
    "print(arr)"
   ]
  },
  {
   "cell_type": "markdown",
   "id": "9df9b9ad",
   "metadata": {},
   "source": [
    "2. Create 3x3 Matrix (2?10)"
   ]
  },
  {
   "cell_type": "code",
   "execution_count": 11,
   "id": "103b821c",
   "metadata": {},
   "outputs": [
    {
     "name": "stdout",
     "output_type": "stream",
     "text": [
      "[[ 2  3  4]\n",
      " [ 5  6  7]\n",
      " [ 8  9 10]]\n"
     ]
    }
   ],
   "source": [
    "# Write a NumPy program to create a 3x3 matrix with values ranging from 2 to 10.\n",
    "# Expected Output:\n",
    "# [[ 2 3 4] [ 5 6 7] [ 8 9 10]]\n",
    "arr = np.arange(2,11,1)\n",
    "arr1 = arr.reshape(3,3)\n",
    "print(arr1)"
   ]
  },
  {
   "cell_type": "markdown",
   "id": "efa176f2",
   "metadata": {},
   "source": [
    "3. Null Vector (10) & Update Sixth Value"
   ]
  },
  {
   "cell_type": "code",
   "execution_count": 14,
   "id": "c3d92c41",
   "metadata": {},
   "outputs": [
    {
     "name": "stdout",
     "output_type": "stream",
     "text": [
      "[ 0.  0.  0.  0.  0. 11.  0.  0.  0.  0.]\n"
     ]
    }
   ],
   "source": [
    "# Write a NumPy program to create a null vector of size 10 and update the sixth value to 11.\n",
    "# [ 0. 0. 0. 0. 0. 0. 0. 0. 0. 0.]\n",
    "# Update sixth value to 11 [ 0. 0. 0. 0. 0. 0. 11. 0. 0. 0.]\n",
    "vector = np.zeros(10)\n",
    "vector[5] = 11\n",
    "print(vector)"
   ]
  },
  {
   "cell_type": "markdown",
   "id": "e8768e98",
   "metadata": {},
   "source": [
    "4. Array from 12 to 38"
   ]
  },
  {
   "cell_type": "code",
   "execution_count": 16,
   "id": "81f1f42d",
   "metadata": {},
   "outputs": [
    {
     "name": "stdout",
     "output_type": "stream",
     "text": [
      "[12 13 14 15 16 17 18 19 20 21 22 23 24 25 26 27 28 29 30 31 32 33 34 35\n",
      " 36 37]\n"
     ]
    }
   ],
   "source": [
    "# Write a NumPy program to create an array with values ranging from 12 to 38.\n",
    "# Expected Output:\n",
    "# [12 13 14 15 16 17 18 19 20 21 22 23 24 25 26 27 28 29 30 31 32 33 34 35 36 37]\n",
    "array = np.arange(12,38)\n",
    "print(array)"
   ]
  },
  {
   "cell_type": "markdown",
   "id": "73a2f079",
   "metadata": {},
   "source": [
    "5. Convert Array to Float Type"
   ]
  },
  {
   "cell_type": "code",
   "execution_count": 20,
   "id": "7ccb587f",
   "metadata": {},
   "outputs": [
    {
     "name": "stdout",
     "output_type": "stream",
     "text": [
      "[1. 2. 3. 4.]\n"
     ]
    }
   ],
   "source": [
    "# Write a NumPy program to convert an array to a floating type.\n",
    "# Sample output:\n",
    "# Original array [1, 2, 3, 4]\n",
    "array = np.arange(1,5)\n",
    "float = array.astype(float)\n",
    "print(float)"
   ]
  },
  {
   "cell_type": "markdown",
   "id": "e09cb287",
   "metadata": {},
   "source": [
    "6. Celsius to Fahrenheit Conversion"
   ]
  },
  {
   "cell_type": "code",
   "execution_count": 21,
   "id": "8865ecd1",
   "metadata": {},
   "outputs": [
    {
     "name": "stdout",
     "output_type": "stream",
     "text": [
      "[-17.78 -11.11   7.34   1.11  37.73   0.  ]\n",
      "[-4.0000e-03  1.2002e+01  4.5212e+01  3.3998e+01  9.9914e+01  3.2000e+01]\n"
     ]
    }
   ],
   "source": [
    "# Write a NumPy program to convert Centigrade degrees into Fahrenheit degrees. Centigrade values are stored in a NumPy array.\n",
    "# Sample Array [0, 12, 45.21, 34, 99.91] [-17.78, -11.11, 7.34, 1.11, 37.73, 0. ]\n",
    "# Expected Output:\n",
    "# Values in Fahrenheit degrees: [ 0. 12. 45.21 34. 99.91 32. ]\n",
    "# Values in Centigrade degrees: [-17.78 -11.11 7.34 1.11 37.73 0. ]\n",
    "centigrade = np.array([-17.78, -11.11, 7.34, 1.11, 37.73, 0. ])\n",
    "fahrenheit = centigrade * 9 / 5 + 32\n",
    "print(centigrade)\n",
    "print(fahrenheit)"
   ]
  },
  {
   "cell_type": "markdown",
   "id": "eeeb4852",
   "metadata": {},
   "source": [
    "7. Append Values to Array (Do self-tudy)"
   ]
  },
  {
   "cell_type": "code",
   "execution_count": 23,
   "id": "4cfa5860",
   "metadata": {},
   "outputs": [
    {
     "name": "stdout",
     "output_type": "stream",
     "text": [
      "[10 20 30 40 50 60 70 80 90]\n"
     ]
    }
   ],
   "source": [
    "# Write a NumPy program to append values to the end of an array.\n",
    "# Expected Output:\n",
    "# Original array: [10, 20, 30]\n",
    "# After append values to the end of the array: [10 20 30 40 50 60 70 80 90]\n",
    "array = np.array([10, 20, 30])\n",
    "arr = [40,50,60,70,80,90]\n",
    "array1 = np.append(array, arr)\n",
    "print(array1)"
   ]
  },
  {
   "cell_type": "markdown",
   "id": "7ebb7fe7",
   "metadata": {},
   "source": [
    "8. Array Statistical Functions (Do self-tudy)"
   ]
  },
  {
   "cell_type": "code",
   "execution_count": 42,
   "id": "a3a9c55f",
   "metadata": {},
   "outputs": [
    {
     "name": "stdout",
     "output_type": "stream",
     "text": [
      "53.5\n",
      "51.5\n",
      "27.83971982617641\n"
     ]
    }
   ],
   "source": [
    "# Create a random NumPy array of 10 elements and calculate the mean, median, and standard deviation of the array.\n",
    "array = np.random.randint(1,100,(1,10))\n",
    "mean = np.mean(array)\n",
    "median = np.median(array)\n",
    "STD = np.std(array)\n",
    "print(mean)\n",
    "print(median)\n",
    "print(STD)"
   ]
  },
  {
   "cell_type": "markdown",
   "id": "3d22807c",
   "metadata": {},
   "source": [
    "9 Find min and max"
   ]
  },
  {
   "cell_type": "code",
   "execution_count": 77,
   "id": "554723b8",
   "metadata": {},
   "outputs": [
    {
     "name": "stdout",
     "output_type": "stream",
     "text": [
      "1\n",
      "98\n"
     ]
    }
   ],
   "source": [
    "# Create a 10x10 array with random values and find the minimum and maximum values.\n",
    "array = np.random.randint(1,100,(10,10))\n",
    "min = np.min(array)\n",
    "max = np.max(array)\n",
    "print(min)\n",
    "print(max)"
   ]
  },
  {
   "cell_type": "markdown",
   "id": "db5cf9d3",
   "metadata": {},
   "source": [
    "10 "
   ]
  },
  {
   "cell_type": "code",
   "execution_count": 81,
   "id": "8ba7f400",
   "metadata": {},
   "outputs": [
    {
     "data": {
      "text/plain": [
       "array([[[ 7, 19, 67],\n",
       "        [89, 88,  6],\n",
       "        [14, 63,  9]],\n",
       "\n",
       "       [[11, 19, 69],\n",
       "        [53, 63, 12],\n",
       "        [56, 62, 28]],\n",
       "\n",
       "       [[10, 19, 80],\n",
       "        [93, 85, 35],\n",
       "        [91, 33, 25]]], dtype=int32)"
      ]
     },
     "execution_count": 81,
     "metadata": {},
     "output_type": "execute_result"
    }
   ],
   "source": [
    "# Create a 3x3x3 array with random values.\n",
    "array = np.random.randint(1,100,(3,3,3))\n",
    "array"
   ]
  }
 ],
 "metadata": {
  "kernelspec": {
   "display_name": "Python 3",
   "language": "python",
   "name": "python3"
  },
  "language_info": {
   "codemirror_mode": {
    "name": "ipython",
    "version": 3
   },
   "file_extension": ".py",
   "mimetype": "text/x-python",
   "name": "python",
   "nbconvert_exporter": "python",
   "pygments_lexer": "ipython3",
   "version": "3.11.9"
  }
 },
 "nbformat": 4,
 "nbformat_minor": 5
}
