{
 "cells": [
  {
   "cell_type": "markdown",
   "metadata": {},
   "source": [
    "Python Dictionary and Set Exercises"
   ]
  },
  {
   "cell_type": "markdown",
   "metadata": {},
   "source": [
    "Dictionary Exercises"
   ]
  },
  {
   "cell_type": "markdown",
   "metadata": {},
   "source": [
    "1. Sort a Dictionary by Value"
   ]
  },
  {
   "cell_type": "code",
   "execution_count": 4,
   "metadata": {},
   "outputs": [
    {
     "name": "stdout",
     "output_type": "stream",
     "text": [
      "Ascending Order: ['age', 'city', 'name']\n",
      "Descending Order: ['name', 'city', 'age']\n"
     ]
    }
   ],
   "source": [
    "# Write a Python script to sort (ascending and descending) a dictionary by value.\n",
    "\n",
    "dict = {\n",
    "    \"name\": \"John\",\n",
    "    \"age\": 25,\n",
    "    \"city\": \"Tashkent\"\n",
    "}\n",
    "dict_ascending = sorted(dict)\n",
    "print('Ascending Order:', dict_ascending)\n",
    "\n",
    "dict_descending = sorted(dict, reverse=True)\n",
    "print('Descending Order:', dict_descending)\n"
   ]
  },
  {
   "cell_type": "markdown",
   "metadata": {},
   "source": [
    "2. Add a Key to a Dictionary"
   ]
  },
  {
   "cell_type": "code",
   "execution_count": null,
   "metadata": {},
   "outputs": [
    {
     "name": "stdout",
     "output_type": "stream",
     "text": [
      "{0: 10, 1: 20, 2: 30}\n"
     ]
    }
   ],
   "source": [
    "# Write a Python script to add a key to a dictionary.\n",
    "\n",
    "# Sample Dictionary:\n",
    "\n",
    "numbers = {0: 10, 1: 20}\n",
    "\n",
    "numbers[2] = 30\n",
    "print(numbers)\n"
   ]
  },
  {
   "cell_type": "markdown",
   "metadata": {},
   "source": [
    "3. Concatenate Multiple Dictionaries"
   ]
  },
  {
   "cell_type": "code",
   "execution_count": 9,
   "metadata": {},
   "outputs": [
    {
     "name": "stdout",
     "output_type": "stream",
     "text": [
      "{1: 10, 2: 20, 3: 30, 4: 40, 5: 50, 6: 60}\n"
     ]
    }
   ],
   "source": [
    "# Write a Python script to concatenate the following dictionaries to create a new one.\n",
    "\n",
    "# Sample Dictionaries:\n",
    "\n",
    "dic1 = {1: 10, 2: 20}\n",
    "dic2 = {3: 30, 4: 40}\n",
    "dic3 = {5: 50, 6: 60}\n",
    "\n",
    "dic1.update(dic2)\n",
    "dic1.update(dic3)\n",
    "\n",
    "print(dic1)\n",
    "# Expected Result:\n",
    "\n",
    "# {1: 10, 2: 20, 3: 30, 4: 40, 5: 50, 6: 60}"
   ]
  },
  {
   "cell_type": "markdown",
   "metadata": {},
   "source": [
    "4. Generate a Dictionary with Squares"
   ]
  },
  {
   "cell_type": "code",
   "execution_count": null,
   "metadata": {},
   "outputs": [
    {
     "name": "stdout",
     "output_type": "stream",
     "text": [
      "{1: 1, 2: 4, 3: 9, 4: 16, 5: 25}\n"
     ]
    }
   ],
   "source": [
    "# Write a Python script to generate and print a dictionary that contains a number (between 1 and n) in the form (x, x*x).\n",
    "\n",
    "n = 5\n",
    "square_dic = {}\n",
    "\n",
    "for x in range(1, n+1):\n",
    "    square_dic[x] = x*x\n",
    "\n",
    "print(square_dic)"
   ]
  },
  {
   "cell_type": "markdown",
   "metadata": {},
   "source": [
    "5. Dictionary of Squares (1 to 15)"
   ]
  },
  {
   "cell_type": "code",
   "execution_count": null,
   "metadata": {},
   "outputs": [
    {
     "name": "stdout",
     "output_type": "stream",
     "text": [
      "{1: 1, 2: 4, 3: 9, 4: 16, 5: 25, 6: 36, 7: 49, 8: 64, 9: 81, 10: 100, 11: 121, 12: 144, 13: 169, 14: 196, 15: 225}\n",
      "{1, 2, 3, 4, 5, 6}\n",
      "1\n",
      "2\n",
      "3\n",
      "4\n",
      "5\n",
      "6\n",
      "{1, 2, 3, 4, 5, 6, 8}\n",
      "{1, 2, 3, 4, 5, 6, 7, 8, 9, 10}\n",
      "{1, 2, 4, 5, 6, 7, 8, 9, 10}\n",
      "{1, 2, 4, 5, 6, 7, 8, 9, 10}\n"
     ]
    }
   ],
   "source": [
    "# Write a Python script to print a dictionary where the keys are numbers between 1 and 15 (both included) and the values are the square of the keys.\n",
    "n = 15\n",
    "square_dic1 = {}\n",
    "for x in range(1, n+1):\n",
    "    square_dic1[x] = x*x\n",
    "print(square_dic1)\n",
    "\n",
    "# Set Exercises\n",
    "# 1. Create a Set\n",
    "# Write a Python program to create a set.\n",
    "numbers = set([1,2,3,4,5,6])\n",
    "print(numbers)\n",
    "\n",
    "# 2. Iterate Over a Set\n",
    "# Write a Python program to iterate over sets.\n",
    "numbers = set([1,2,3,4,5,6])\n",
    "for number in numbers:\n",
    "    print(number)\n",
    "\n",
    "# 3. Add Member(s) to a Set\n",
    "# Write a Python program to add member(s) to a set.\n",
    "numbers.add(8)\n",
    "print(numbers)\n",
    "numbers.update([9,10,7])\n",
    "print(numbers)\n",
    "\n",
    "# 4. Remove Item(s) from a Set\n",
    "# Write a Python program to remove item(s) from a given set.\n",
    "numbers.remove(3)\n",
    "print(numbers)\n",
    "\n",
    "# 5. Remove an Item if Present in the Set\n",
    "# Write a Python program to remove an item from a set if it is present in the set.\n",
    "if 3 in numbers:\n",
    "    numbers.remove(3)\n",
    "print(numbers)"
   ]
  }
 ],
 "metadata": {
  "kernelspec": {
   "display_name": "Python 3",
   "language": "python",
   "name": "python3"
  },
  "language_info": {
   "codemirror_mode": {
    "name": "ipython",
    "version": 3
   },
   "file_extension": ".py",
   "mimetype": "text/x-python",
   "name": "python",
   "nbconvert_exporter": "python",
   "pygments_lexer": "ipython3",
   "version": "3.11.9"
  }
 },
 "nbformat": 4,
 "nbformat_minor": 2
}
