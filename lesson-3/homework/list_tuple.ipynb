{
 "cells": [
  {
   "cell_type": "markdown",
   "metadata": {},
   "source": [
    "List and Tuple Excercises"
   ]
  },
  {
   "cell_type": "markdown",
   "metadata": {},
   "source": [
    "1. Create and Access List Elements"
   ]
  },
  {
   "cell_type": "code",
   "execution_count": null,
   "metadata": {},
   "outputs": [
    {
     "name": "stdout",
     "output_type": "stream",
     "text": [
      "Strawberry\n"
     ]
    }
   ],
   "source": [
    "# Create a list containing five different fruits and print the third fruit\n",
    "\n",
    "l = ['Apple', 'Mandarin', 'Strawberry', 'Apricot', 'Melon']\n",
    "\n",
    "print(l[2])"
   ]
  },
  {
   "cell_type": "markdown",
   "metadata": {},
   "source": [
    "2. Concatenate Two Lists"
   ]
  },
  {
   "cell_type": "code",
   "execution_count": null,
   "metadata": {},
   "outputs": [
    {
     "name": "stdout",
     "output_type": "stream",
     "text": [
      "[1, 2, 3, 4, 5, 6, 7, 8, 9, 0]\n"
     ]
    }
   ],
   "source": [
    "# Create two lists of numbers and concatenate them into a single list.\n",
    "\n",
    "numbers = [1,2,3,4,5,6]\n",
    "numbers1 = [7,8,9,0]\n",
    "numbers.extend(numbers1)\n",
    "\n",
    "print(numbers)"
   ]
  },
  {
   "cell_type": "markdown",
   "metadata": {},
   "source": [
    "3. Extract Elements from a list."
   ]
  },
  {
   "cell_type": "code",
   "execution_count": null,
   "metadata": {},
   "outputs": [
    {
     "name": "stdout",
     "output_type": "stream",
     "text": [
      "[1, 6, 0]\n"
     ]
    }
   ],
   "source": [
    "# Given a list of numbers, extract the first, middle, and last elements and store them in a new list.\n",
    "\n",
    "first = numbers[0]\n",
    "middle = numbers[len(numbers) // 2]\n",
    "last = numbers[-1]\n",
    "\n",
    "new_list = [first, middle, last]\n",
    "\n",
    "print(new_list)"
   ]
  },
  {
   "cell_type": "markdown",
   "metadata": {},
   "source": [
    "4. Convert List to Tuple"
   ]
  },
  {
   "cell_type": "code",
   "execution_count": null,
   "metadata": {},
   "outputs": [
    {
     "name": "stdout",
     "output_type": "stream",
     "text": [
      "('Spiderman', 'Ironman', 'Batman', 'Superman', 'Antman')\n"
     ]
    }
   ],
   "source": [
    "# Create a list of your five favorite movies and convert it into a tuple. \n",
    "\n",
    "t = 'Spiderman', 'Ironman', 'Batman', 'Superman', 'Antman'\n",
    "\n",
    "print(t)"
   ]
  },
  {
   "cell_type": "markdown",
   "metadata": {},
   "source": [
    "5. Check Element in a List"
   ]
  },
  {
   "cell_type": "code",
   "execution_count": null,
   "metadata": {},
   "outputs": [
    {
     "name": "stdout",
     "output_type": "stream",
     "text": [
      "Paris is in the list\n"
     ]
    }
   ],
   "source": [
    "# Given a list of cities, chec if \"Paris\" is in the list and print the result\n",
    "\n",
    "cities = ['Mascow', 'Paris', 'Tashkent', 'Barcelona', 'Bukhara']\n",
    "\n",
    "if 'Paris' in cities:\n",
    "    print('Paris is in the list')\n",
    "else:\n",
    "    print('Paris is not in the list')"
   ]
  },
  {
   "cell_type": "markdown",
   "metadata": {},
   "source": [
    "6. Duplicate a List Without Using Loops"
   ]
  },
  {
   "cell_type": "code",
   "execution_count": null,
   "metadata": {},
   "outputs": [
    {
     "name": "stdout",
     "output_type": "stream",
     "text": [
      "[29, 39, 28, 18, 29, 39, 28, 18]\n"
     ]
    }
   ],
   "source": [
    "# Create a list of numbers and duplicate it without using loops.\n",
    "\n",
    "numbers2 = [29,39,28,18]\n",
    "duplicate_numbers = numbers2 * 2\n",
    "\n",
    "print(duplicate_numbers)"
   ]
  },
  {
   "cell_type": "markdown",
   "metadata": {},
   "source": [
    "7. Swap First and Last Elements of a List"
   ]
  },
  {
   "cell_type": "code",
   "execution_count": null,
   "metadata": {},
   "outputs": [
    {
     "name": "stdout",
     "output_type": "stream",
     "text": [
      "[18, 39, 28, 18, 29, 39, 28, 29]\n"
     ]
    }
   ],
   "source": [
    "# Given a list of number, swap the first and last elements.\n",
    "numbers = [29, 39, 28, 18, 29, 39, 28, 18]\n",
    "numbers[0], numbers[-1] = numbers[-1], numbers[0]\n",
    "\n",
    "print(numbers)"
   ]
  },
  {
   "cell_type": "markdown",
   "metadata": {},
   "source": [
    "8. Slice a Tuple"
   ]
  },
  {
   "cell_type": "code",
   "execution_count": null,
   "metadata": {},
   "outputs": [
    {
     "name": "stdout",
     "output_type": "stream",
     "text": [
      "(4, 5, 6, 7, 8)\n"
     ]
    }
   ],
   "source": [
    "# Create a tuple of numbers from 1 to 10 and print a slice from index 3 to 7.\n",
    "t = 1,2,3,4,5,6,7,8,9,10\n",
    "slice = t[3:8]\n",
    "\n",
    "print(slice)\n"
   ]
  },
  {
   "cell_type": "markdown",
   "metadata": {},
   "source": [
    "9. Count Occurrences in a List"
   ]
  },
  {
   "cell_type": "code",
   "execution_count": null,
   "metadata": {},
   "outputs": [
    {
     "name": "stdout",
     "output_type": "stream",
     "text": [
      "3\n"
     ]
    }
   ],
   "source": [
    "# Create a list of colors and count how many times \"blue\" appears in the list.\n",
    "colors = ['blue', 'yellow', 'green', 'black', 'blue', 'white', 'gray', 'blue', 'yellow', 'green']\n",
    "count = colors.count('blue')\n",
    "\n",
    "print(count)"
   ]
  },
  {
   "cell_type": "markdown",
   "metadata": {},
   "source": [
    "10. Find the Index of an Element in a Tuple"
   ]
  },
  {
   "cell_type": "code",
   "execution_count": null,
   "metadata": {},
   "outputs": [
    {
     "name": "stdout",
     "output_type": "stream",
     "text": [
      "3\n"
     ]
    }
   ],
   "source": [
    "# Given a tuple of animals, find the index of \"lion\".\n",
    "animals = 'giraffe', 'elephant', 'jaguar', 'lion', 'cow', 'dog'\n",
    "index = animals.index('lion')\n",
    "\n",
    "print(index)"
   ]
  },
  {
   "cell_type": "markdown",
   "metadata": {},
   "source": [
    "11. Merge Two Tuples"
   ]
  },
  {
   "cell_type": "code",
   "execution_count": 41,
   "metadata": {},
   "outputs": [
    {
     "name": "stdout",
     "output_type": "stream",
     "text": [
      "(2, 5, 7, 2, 3, 3, 2, 1, 8, 6)\n"
     ]
    }
   ],
   "source": [
    "# Create two tuples of numbers and merge them into a single tuple.\n",
    "numbers1 = 2,5,7,2,3\n",
    "numbers2 = 3,2,1,8,6\n",
    "\n",
    "merge = numbers1 + numbers2\n",
    "\n",
    "print(merge)"
   ]
  },
  {
   "cell_type": "markdown",
   "metadata": {},
   "source": [
    "12. Find the Length of a List and Tuple"
   ]
  },
  {
   "cell_type": "code",
   "execution_count": 47,
   "metadata": {},
   "outputs": [
    {
     "name": "stdout",
     "output_type": "stream",
     "text": [
      "8\n",
      "5\n"
     ]
    }
   ],
   "source": [
    "# Given a list and a tuple, find and print their lengths.\n",
    "\n",
    "numbers = [29, 39, 28, 18, 29, 39, 28, 18]\n",
    "numbers2 = 3,2,1,8,6\n",
    "\n",
    "print(len(numbers))\n",
    "print(len(numbers2))"
   ]
  },
  {
   "cell_type": "markdown",
   "metadata": {},
   "source": [
    "13. Convert Tuple to List"
   ]
  },
  {
   "cell_type": "code",
   "execution_count": 48,
   "metadata": {},
   "outputs": [
    {
     "name": "stdout",
     "output_type": "stream",
     "text": [
      "[3, 2, 1, 8, 6]\n"
     ]
    }
   ],
   "source": [
    "# Create a tuple of five numbers and convert it into a list.\n",
    "\n",
    "numbers2 = 3,2,1,8,6\n",
    "\n",
    "listing = list(numbers2)\n",
    "\n",
    "print(listing)"
   ]
  },
  {
   "cell_type": "markdown",
   "metadata": {},
   "source": [
    "14. Find Maximum and Minimum in a Tuple"
   ]
  },
  {
   "cell_type": "code",
   "execution_count": 49,
   "metadata": {},
   "outputs": [
    {
     "name": "stdout",
     "output_type": "stream",
     "text": [
      "7\n",
      "2\n"
     ]
    }
   ],
   "source": [
    "# Given a tuple of numbers, find and print the maximum and minimum values.\n",
    "\n",
    "numbers1 = 2,5,7,2,3\n",
    "\n",
    "print(max(numbers1))\n",
    "print(min(numbers1))"
   ]
  },
  {
   "cell_type": "markdown",
   "metadata": {},
   "source": [
    "15. Reverse a Tuple"
   ]
  },
  {
   "cell_type": "code",
   "execution_count": null,
   "metadata": {},
   "outputs": [
    {
     "name": "stdout",
     "output_type": "stream",
     "text": [
      "('dog', 'cow', 'lion', 'jaguar', 'elephant', 'giraffe')\n"
     ]
    }
   ],
   "source": [
    "# Create a tuple of words and print it in reverse order.\n",
    "\n",
    "animals = 'giraffe', 'elephant', 'jaguar', 'lion', 'cow', 'dog'\n",
    "\n",
    "reversed_names = animals[::-1]\n",
    "print(reversed_names)"
   ]
  }
 ],
 "metadata": {
  "kernelspec": {
   "display_name": "Python 3",
   "language": "python",
   "name": "python3"
  },
  "language_info": {
   "codemirror_mode": {
    "name": "ipython",
    "version": 3
   },
   "file_extension": ".py",
   "mimetype": "text/x-python",
   "name": "python",
   "nbconvert_exporter": "python",
   "pygments_lexer": "ipython3",
   "version": "3.11.9"
  }
 },
 "nbformat": 4,
 "nbformat_minor": 2
}
