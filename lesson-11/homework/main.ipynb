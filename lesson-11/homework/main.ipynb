{
 "cells": [
  {
   "cell_type": "code",
   "execution_count": 4,
   "id": "6a110c59",
   "metadata": {},
   "outputs": [
    {
     "name": "stdout",
     "output_type": "stream",
     "text": [
      "3\n"
     ]
    }
   ],
   "source": [
    "def add(a, b):\n",
    "    return a + b\n",
    "\n",
    "# example \n",
    "print(add(1,2))"
   ]
  },
  {
   "cell_type": "code",
   "execution_count": 5,
   "id": "944f0183",
   "metadata": {},
   "outputs": [
    {
     "name": "stdout",
     "output_type": "stream",
     "text": [
      "9\n"
     ]
    }
   ],
   "source": [
    "def substruct(a,b):\n",
    "    return a-b\n",
    "\n",
    "# example\n",
    "print(substruct(12,3))"
   ]
  },
  {
   "cell_type": "code",
   "execution_count": 6,
   "id": "2498207e",
   "metadata": {},
   "outputs": [
    {
     "name": "stdout",
     "output_type": "stream",
     "text": [
      "14\n"
     ]
    }
   ],
   "source": [
    "def multiply(a,b):\n",
    "    return a * b\n",
    "\n",
    "# example\n",
    "print(multiply(2,7))"
   ]
  },
  {
   "cell_type": "code",
   "execution_count": 8,
   "id": "424628e7",
   "metadata": {},
   "outputs": [
    {
     "name": "stdout",
     "output_type": "stream",
     "text": [
      "3.0\n"
     ]
    }
   ],
   "source": [
    "def divide(a,b):\n",
    "    if b == 0:\n",
    "        raise ValueError\n",
    "    return a/b\n",
    "\n",
    "# example \n",
    "print(divide(24,8))"
   ]
  },
  {
   "cell_type": "code",
   "execution_count": 9,
   "id": "624edb2b",
   "metadata": {},
   "outputs": [
    {
     "name": "stdout",
     "output_type": "stream",
     "text": [
      "olleH\n"
     ]
    }
   ],
   "source": [
    "def reverse_string(s):\n",
    "    return s[:: -1]\n",
    "\n",
    "# example\n",
    "print(reverse_string('Hello'))"
   ]
  },
  {
   "cell_type": "code",
   "execution_count": 11,
   "id": "3c26097a",
   "metadata": {},
   "outputs": [
    {
     "name": "stdout",
     "output_type": "stream",
     "text": [
      "4\n"
     ]
    }
   ],
   "source": [
    "def count_vowels(s):\n",
    "    vowels = 'auioe'\n",
    "    return sum(1 for char in s.lower() if char in vowels)\n",
    "\n",
    "# example\n",
    "print(count_vowels(\"I love Python\"))"
   ]
  },
  {
   "cell_type": "code",
   "execution_count": 12,
   "id": "39ca7326",
   "metadata": {},
   "outputs": [
    {
     "name": "stdout",
     "output_type": "stream",
     "text": [
      "615.7521601035994\n"
     ]
    }
   ],
   "source": [
    "def calculate_area(radius):\n",
    "    import math\n",
    "    return math.pi * radius ** 2\n",
    "\n",
    "# example\n",
    "print(calculate_area(14))"
   ]
  },
  {
   "cell_type": "code",
   "execution_count": 14,
   "id": "c8acbe15",
   "metadata": {},
   "outputs": [
    {
     "name": "stdout",
     "output_type": "stream",
     "text": [
      "87.96459430051421\n"
     ]
    }
   ],
   "source": [
    "def circumference(radius):\n",
    "    import math\n",
    "    return 2 * math.pi * radius\n",
    "\n",
    "# example\n",
    "print(circumference(14))"
   ]
  },
  {
   "cell_type": "code",
   "execution_count": 18,
   "id": "6e334769",
   "metadata": {},
   "outputs": [],
   "source": [
    "import pandas as pd\n",
    "import numpy as np"
   ]
  },
  {
   "cell_type": "code",
   "execution_count": 25,
   "id": "cd2d171f",
   "metadata": {},
   "outputs": [],
   "source": [
    "stocks17 = pd.read_csv('stocks_2017.csv')"
   ]
  }
 ],
 "metadata": {
  "kernelspec": {
   "display_name": "Python 3",
   "language": "python",
   "name": "python3"
  },
  "language_info": {
   "codemirror_mode": {
    "name": "ipython",
    "version": 3
   },
   "file_extension": ".py",
   "mimetype": "text/x-python",
   "name": "python",
   "nbconvert_exporter": "python",
   "pygments_lexer": "ipython3",
   "version": "3.11.9"
  }
 },
 "nbformat": 4,
 "nbformat_minor": 5
}
