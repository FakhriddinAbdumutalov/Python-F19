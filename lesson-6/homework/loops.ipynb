{
 "cells": [
  {
   "cell_type": "markdown",
   "id": "2d44b9f0",
   "metadata": {},
   "source": [
    "Homeworks"
   ]
  },
  {
   "cell_type": "markdown",
   "id": "c250cc01",
   "metadata": {},
   "source": [
    "1. Modify String with Underscores"
   ]
  },
  {
   "cell_type": "code",
   "execution_count": 10,
   "id": "d3caa193",
   "metadata": {},
   "outputs": [
    {
     "name": "stdout",
     "output_type": "stream",
     "text": [
      "hel_lo\n",
      "ass_alo_m\n",
      "abc_abc_abc_dea_bcd_efa_bcd_efg\n"
     ]
    }
   ],
   "source": [
    "# Given a string txt, insert an underscore (_) after every third character.\n",
    "# If a character is a vowel or already has an underscore after it, shift the underscore placement to the next character. \n",
    "# No underscore should be added at the end.\n",
    "\n",
    "txt = 'hello'\n",
    "txt1 = 'assalom'\n",
    "txt2 = 'abcabcabcdeabcdefabcdefg'\n",
    "\n",
    "result = \"_\".join([txt[i:i+3] for i in range(0, len(txt), 3)])\n",
    "result1 = \"_\".join([txt1[i:i+3] for i in range(0, len(txt1), 3)])\n",
    "result2 = \"_\".join([txt2[i:i+3] for i in range(0, len(txt2), 3)])\n",
    "\n",
    "print(result)\n",
    "print(result1)\n",
    "print(result2)\n",
    "\n",
    "# Examples\n",
    "# Input: hello Output: hel_lo\n",
    "\n",
    "# Input: assalom Output: ass_alom\n",
    "\n",
    "# Input: abcabcabcdeabcdefabcdefg Output: abc_abc_abcd_abcd_abcdef\n",
    "\n"
   ]
  },
  {
   "cell_type": "markdown",
   "id": "6eb6ecac",
   "metadata": {},
   "source": [
    "2. Integer Squares Exercise"
   ]
  },
  {
   "cell_type": "code",
   "execution_count": 11,
   "id": "f96d4d61",
   "metadata": {},
   "outputs": [
    {
     "name": "stdout",
     "output_type": "stream",
     "text": [
      "1 squared is 1\n",
      "2 squared is 4\n",
      "3 squared is 9\n",
      "4 squared is 16\n",
      "5 squared is 25\n",
      "6 squared is 36\n",
      "7 squared is 49\n",
      "8 squared is 64\n",
      "9 squared is 81\n",
      "10 squared is 100\n",
      "11 squared is 121\n",
      "12 squared is 144\n",
      "13 squared is 169\n",
      "14 squared is 196\n",
      "15 squared is 225\n",
      "16 squared is 256\n",
      "17 squared is 289\n",
      "18 squared is 324\n",
      "19 squared is 361\n",
      "20 squared is 400\n",
      "21 squared is 441\n",
      "22 squared is 484\n",
      "23 squared is 529\n"
     ]
    }
   ],
   "source": [
    "# The provided code stub reads an integer, n, from STDIN. For all non-negative integers i where 0 <= i < n, print i^2.\n",
    "\n",
    "n = int(input(\"Please enter a number \"))\n",
    "\n",
    "for i in range (1, n + 1):\n",
    "    print(f\"{i} squared is {i**2}\")\n"
   ]
  },
  {
   "cell_type": "markdown",
   "id": "5e5453dd",
   "metadata": {},
   "source": [
    "3. Loop-Based Exercises"
   ]
  },
  {
   "cell_type": "code",
   "execution_count": 12,
   "id": "a6952d36",
   "metadata": {},
   "outputs": [
    {
     "name": "stdout",
     "output_type": "stream",
     "text": [
      "1\n",
      "2\n",
      "3\n",
      "4\n",
      "5\n",
      "6\n",
      "7\n",
      "8\n",
      "9\n",
      "10\n"
     ]
    }
   ],
   "source": [
    "# Exercise 1: Print first 10 natural numbers using a while loop\n",
    "i = 1\n",
    "while i <= 10:\n",
    "    print(i)\n",
    "    i += 1"
   ]
  },
  {
   "cell_type": "code",
   "execution_count": 13,
   "id": "6678214d",
   "metadata": {},
   "outputs": [
    {
     "name": "stdout",
     "output_type": "stream",
     "text": [
      "1 \n",
      "1 2 \n",
      "1 2 3 \n",
      "1 2 3 4 \n",
      "1 2 3 4 5 \n"
     ]
    }
   ],
   "source": [
    "# Exercise 2: Print the following pattern\n",
    "# 1\n",
    "# 1 2\n",
    "# 1 2 3\n",
    "# 1 2 3 4\n",
    "# 1 2 3 4 5\n",
    "i1 = 1\n",
    "while i1 <= 5:\n",
    "    j = 1\n",
    "    while j <= i1:\n",
    "        print(j, end=\" \")\n",
    "        j +=1\n",
    "    print()\n",
    "    i1+=1\n"
   ]
  },
  {
   "cell_type": "code",
   "execution_count": 14,
   "id": "5f38c043",
   "metadata": {},
   "outputs": [
    {
     "name": "stdout",
     "output_type": "stream",
     "text": [
      "55\n"
     ]
    }
   ],
   "source": [
    "# Exercise 3: Calculate sum of all numbers from 1 to a given number\n",
    "n = 10\n",
    "total = 0\n",
    "for i in range(1,n+1):\n",
    "    total +=i\n",
    "print(total)\n",
    "# Example:\n",
    "# Enter number 10\n",
    "# Sum is: 55"
   ]
  },
  {
   "cell_type": "code",
   "execution_count": 15,
   "id": "c94f99d1",
   "metadata": {},
   "outputs": [
    {
     "name": "stdout",
     "output_type": "stream",
     "text": [
      "2 x 1 = 2\n",
      "2 x 2 = 4\n",
      "2 x 3 = 6\n",
      "2 x 4 = 8\n",
      "2 x 5 = 10\n",
      "2 x 6 = 12\n",
      "2 x 7 = 14\n",
      "2 x 8 = 16\n",
      "2 x 9 = 18\n",
      "2 x 10 = 20\n"
     ]
    }
   ],
   "source": [
    "# Exercise 4: Print multiplication table of a given number\n",
    "num = 2\n",
    "for i in range(1, 11):\n",
    "    print(f\"{num} x {i} = {num * i}\")\n",
    "# Example:\n",
    "# 2\n",
    "# 4\n",
    "# 6\n",
    "# 8\n",
    "# 10\n",
    "# 12\n",
    "# 14\n",
    "# 16\n",
    "# 18\n",
    "# 20"
   ]
  },
  {
   "cell_type": "code",
   "execution_count": 16,
   "id": "3cea2472",
   "metadata": {},
   "outputs": [
    {
     "name": "stdout",
     "output_type": "stream",
     "text": [
      "75\n",
      "150\n",
      "145\n"
     ]
    }
   ],
   "source": [
    "# Exercise 5: Display numbers from a list using a loop\n",
    "numbers = [12, 75, 150, 180, 145, 525, 50]\n",
    "for i in numbers:\n",
    "    if i in[75, 150, 145]:\n",
    "        print(i)\n",
    "# Given:\n",
    "# numbers = [12, 75, 150, 180, 145, 525, 50]\n",
    "# Expected Output:\n",
    "# 75\n",
    "# 150\n",
    "# 145"
   ]
  },
  {
   "cell_type": "code",
   "execution_count": 17,
   "id": "0c683964",
   "metadata": {},
   "outputs": [
    {
     "name": "stdout",
     "output_type": "stream",
     "text": [
      "5\n"
     ]
    }
   ],
   "source": [
    "# Exercise 6: Count the total number of digits in a number\n",
    "num = 75869\n",
    "count = 0 \n",
    "while num != 0:\n",
    "    num//=10\n",
    "    count +=1 \n",
    "print(count)\n",
    "# Example:\n",
    "# 75869\n",
    "# Output: 5"
   ]
  },
  {
   "cell_type": "code",
   "execution_count": 18,
   "id": "0bb9ce1b",
   "metadata": {},
   "outputs": [
    {
     "name": "stdout",
     "output_type": "stream",
     "text": [
      "6 5 4 3 2 1 \n",
      "5 4 3 2 1 \n",
      "4 3 2 1 \n",
      "3 2 1 \n",
      "2 1 \n",
      "1 \n"
     ]
    }
   ],
   "source": [
    "# Exercise 7: Print reverse number pattern\n",
    "rows = 5\n",
    "for i in range(rows+1, 0, -1):\n",
    "    for j in range(i, 0, -1):\n",
    "        print(j, end=\" \")\n",
    "    print()\n",
    "# 5 4 3 2 1\n",
    "# 4 3 2 1\n",
    "# 3 2 1\n",
    "# 2 1\n",
    "# 1"
   ]
  },
  {
   "cell_type": "code",
   "execution_count": 19,
   "id": "4cd8b268",
   "metadata": {},
   "outputs": [
    {
     "name": "stdout",
     "output_type": "stream",
     "text": [
      "50\n",
      "40\n",
      "30\n",
      "20\n",
      "10\n"
     ]
    }
   ],
   "source": [
    "# Exercise 8: Print list in reverse order using a loop\n",
    "list1 = [10, 20, 30, 40, 50]\n",
    "for i in reversed(list1):\n",
    "    print(i)\n",
    "# Given:\n",
    "# list1 = [10, 20, 30, 40, 50]\n",
    "# Expected Output:\n",
    "# 50\n",
    "# 40\n",
    "# 30\n",
    "# 20\n",
    "# 10\n"
   ]
  },
  {
   "cell_type": "code",
   "execution_count": 20,
   "id": "82e78dee",
   "metadata": {},
   "outputs": [
    {
     "name": "stdout",
     "output_type": "stream",
     "text": [
      "-10\n",
      "-9\n",
      "-8\n",
      "-7\n",
      "-6\n",
      "-5\n",
      "-4\n",
      "-3\n",
      "-2\n",
      "-1\n"
     ]
    }
   ],
   "source": [
    "# Exercise 9: Display numbers from -10 to -1 using a for loop\n",
    "for i in range(-10, 0):\n",
    "    print(i)\n",
    "# -10\n",
    "# -9\n",
    "# -8\n",
    "# -7\n",
    "# -6\n",
    "# -5\n",
    "# -4\n",
    "# -3\n",
    "# -2\n",
    "# -1"
   ]
  },
  {
   "cell_type": "code",
   "execution_count": 21,
   "id": "bd3d9b9d",
   "metadata": {},
   "outputs": [
    {
     "name": "stdout",
     "output_type": "stream",
     "text": [
      "0\n",
      "1\n",
      "2\n",
      "3\n",
      "4\n",
      "Done\n"
     ]
    }
   ],
   "source": [
    "# Exercise 10: Display message “Done” after successful loop execution\n",
    "for i in range(0, 5):\n",
    "    print(i)\n",
    "print(\"Done\")\n",
    "# Example:\n",
    "# 0\n",
    "# 1\n",
    "# 2\n",
    "# 3\n",
    "# 4\n",
    "# Done!"
   ]
  },
  {
   "cell_type": "code",
   "execution_count": 22,
   "id": "6240b4dd",
   "metadata": {},
   "outputs": [
    {
     "name": "stdout",
     "output_type": "stream",
     "text": [
      "29\n",
      "31\n",
      "37\n",
      "41\n",
      "43\n",
      "47\n"
     ]
    }
   ],
   "source": [
    "# Exercise 11: Print all prime numbers within a range\n",
    "for num in range(25, 51):\n",
    "    if num > 1:\n",
    "        for i in range(2, num):\n",
    "            if num % i == 0:\n",
    "                break\n",
    "        else:\n",
    "            print(num)\n",
    "# Example:\n",
    "# Prime numbers between 25 and 50:\n",
    "# 29\n",
    "# 31\n",
    "# 37\n",
    "# 41\n",
    "# 43\n",
    "# 47"
   ]
  },
  {
   "cell_type": "code",
   "execution_count": null,
   "id": "1b36f255",
   "metadata": {},
   "outputs": [
    {
     "name": "stdout",
     "output_type": "stream",
     "text": [
      "0 1 1 2 3 5 8 13 21 34 "
     ]
    }
   ],
   "source": [
    "# Exercise 12: Display Fibonacci series up to 10 terms\n",
    "a, b = 0, 1  \n",
    "for _ in range(10):  \n",
    "    print(a, end=\" \")\n",
    "    a, b = b, a + b  \n",
    "# Example:\n",
    "# Fibonacci sequence:\n",
    "# 0  1  1  2  3  5  8  13  21  34\n",
    "\n",
    "\n",
    "# Exercise 13: Find the factorial of a given number\n",
    "num = int(input(\"Enter a number: \"))\n",
    "factorial = 1\n",
    "for i in range(1, num + 1):\n",
    "    factorial *= i \n",
    "print(f\"The factorial of {num} is {factorial}\")\n",
    "# Example:\n",
    "# 5! = 120"
   ]
  },
  {
   "cell_type": "markdown",
   "id": "bc9b60d6",
   "metadata": {},
   "source": [
    "4. Return Uncommon Elements of Lists"
   ]
  },
  {
   "cell_type": "code",
   "execution_count": 2,
   "id": "6808dbd9",
   "metadata": {},
   "outputs": [
    {
     "name": "stdout",
     "output_type": "stream",
     "text": [
      "[1, 1, 3, 4]\n",
      "[1, 2, 3, 4, 5, 6]\n",
      "[2, 2, 5]\n"
     ]
    }
   ],
   "source": [
    "# Return the elements that are not common between two lists. The order of elements does not matter.\n",
    "\n",
    "# Examples\n",
    "# Input: list1 = [1, 1, 2], list2 = [2, 3, 4]\n",
    "# Output: [1, 1, 3, 4]\n",
    "\n",
    "# Input: list1 = [1, 2, 3], list2 = [4, 5, 6]\n",
    "# Output: [1, 2, 3, 4, 5, 6]\n",
    "\n",
    "# Input: list1 = [1, 1, 2, 3, 4, 2], list2 = [1, 3, 4, 5]\n",
    "# Output: [2, 2, 5]\n",
    "\n",
    "def non_common_elements(list1, list2):\n",
    "    result = [item for item in list1 if item not in list2] + [item for item in list2 if item not in list1]\n",
    "    return result\n",
    "print(non_common_elements([1, 1, 2], [2, 3, 4])) \n",
    "print(non_common_elements([1, 2, 3], [4, 5, 6]))  \n",
    "print(non_common_elements([1, 1, 2, 3, 4, 2], [1, 3, 4, 5]))  \n"
   ]
  }
 ],
 "metadata": {
  "kernelspec": {
   "display_name": "Python 3",
   "language": "python",
   "name": "python3"
  },
  "language_info": {
   "codemirror_mode": {
    "name": "ipython",
    "version": 3
   },
   "file_extension": ".py",
   "mimetype": "text/x-python",
   "name": "python",
   "nbconvert_exporter": "python",
   "pygments_lexer": "ipython3",
   "version": "3.11.9"
  }
 },
 "nbformat": 4,
 "nbformat_minor": 5
}
